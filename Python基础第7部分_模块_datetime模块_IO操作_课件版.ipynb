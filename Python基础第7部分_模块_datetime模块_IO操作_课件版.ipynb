{
 "cells": [
  {
   "cell_type": "markdown",
   "metadata": {
    "toc": true
   },
   "source": [
    "<h1>Table of Contents<span class=\"tocSkip\"></span></h1>\n",
    "<div class=\"toc\"><ul class=\"toc-item\"><li><span><a href=\"#模块\" data-toc-modified-id=\"模块-1\"><span class=\"toc-item-num\">1&nbsp;&nbsp;</span>模块</a></span><ul class=\"toc-item\"><li><span><a href=\"#import\" data-toc-modified-id=\"import-1.1\"><span class=\"toc-item-num\">1.1&nbsp;&nbsp;</span>import</a></span></li><li><span><a href=\"#from-模块名-import-函数名1,函数名2....\" data-toc-modified-id=\"from-模块名-import-函数名1,函数名2....-1.2\"><span class=\"toc-item-num\">1.2&nbsp;&nbsp;</span>from 模块名 import 函数名1,函数名2....</a></span></li><li><span><a href=\"#as\" data-toc-modified-id=\"as-1.3\"><span class=\"toc-item-num\">1.3&nbsp;&nbsp;</span>as</a></span></li><li><span><a href=\"#定义自己的模块\" data-toc-modified-id=\"定义自己的模块-1.4\"><span class=\"toc-item-num\">1.4&nbsp;&nbsp;</span>定义自己的模块</a></span></li><li><span><a href=\"#用自己定义的模块\" data-toc-modified-id=\"用自己定义的模块-1.5\"><span class=\"toc-item-num\">1.5&nbsp;&nbsp;</span>用自己定义的模块</a></span></li><li><span><a href=\"#datetime时间模块\" data-toc-modified-id=\"datetime时间模块-1.6\"><span class=\"toc-item-num\">1.6&nbsp;&nbsp;</span>datetime时间模块</a></span><ul class=\"toc-item\"><li><span><a href=\"#取出时间中的某一部分\" data-toc-modified-id=\"取出时间中的某一部分-1.6.1\"><span class=\"toc-item-num\">1.6.1&nbsp;&nbsp;</span>取出时间中的某一部分</a></span></li><li><span><a href=\"#datetime与时间戳\" data-toc-modified-id=\"datetime与时间戳-1.6.2\"><span class=\"toc-item-num\">1.6.2&nbsp;&nbsp;</span>datetime与时间戳</a></span><ul class=\"toc-item\"><li><span><a href=\"#时间戳和datetime转换\" data-toc-modified-id=\"时间戳和datetime转换-1.6.2.1\"><span class=\"toc-item-num\">1.6.2.1&nbsp;&nbsp;</span>时间戳和datetime转换</a></span></li></ul></li><li><span><a href=\"#str转换为datetime\" data-toc-modified-id=\"str转换为datetime-1.6.3\"><span class=\"toc-item-num\">1.6.3&nbsp;&nbsp;</span>str转换为datetime</a></span></li><li><span><a href=\"#datetime转换为str\" data-toc-modified-id=\"datetime转换为str-1.6.4\"><span class=\"toc-item-num\">1.6.4&nbsp;&nbsp;</span>datetime转换为str</a></span></li><li><span><a href=\"#datetime加减\" data-toc-modified-id=\"datetime加减-1.6.5\"><span class=\"toc-item-num\">1.6.5&nbsp;&nbsp;</span>datetime加减</a></span></li></ul></li><li><span><a href=\"#time时间模块\" data-toc-modified-id=\"time时间模块-1.7\"><span class=\"toc-item-num\">1.7&nbsp;&nbsp;</span>time时间模块</a></span></li><li><span><a href=\"#random模块\" data-toc-modified-id=\"random模块-1.8\"><span class=\"toc-item-num\">1.8&nbsp;&nbsp;</span>random模块</a></span></li><li><span><a href=\"#小练习:-生成随机验证码\" data-toc-modified-id=\"小练习:-生成随机验证码-1.9\"><span class=\"toc-item-num\">1.9&nbsp;&nbsp;</span>小练习: 生成随机验证码</a></span></li></ul></li><li><span><a href=\"#I/O操作\" data-toc-modified-id=\"I/O操作-2\"><span class=\"toc-item-num\">2&nbsp;&nbsp;</span>I/O操作</a></span><ul class=\"toc-item\"><li><span><a href=\"#打开文件\" data-toc-modified-id=\"打开文件-2.1\"><span class=\"toc-item-num\">2.1&nbsp;&nbsp;</span>打开文件</a></span></li><li><span><a href=\"#关闭文件\" data-toc-modified-id=\"关闭文件-2.2\"><span class=\"toc-item-num\">2.2&nbsp;&nbsp;</span>关闭文件</a></span></li><li><span><a href=\"#文件的读写\" data-toc-modified-id=\"文件的读写-2.3\"><span class=\"toc-item-num\">2.3&nbsp;&nbsp;</span>文件的读写</a></span></li><li><span><a href=\"#读数据(read)\" data-toc-modified-id=\"读数据(read)-2.4\"><span class=\"toc-item-num\">2.4&nbsp;&nbsp;</span>读数据(read)</a></span></li><li><span><a href=\"#读数据（readlines）\" data-toc-modified-id=\"读数据（readlines）-2.5\"><span class=\"toc-item-num\">2.5&nbsp;&nbsp;</span>读数据（readlines）</a></span></li><li><span><a href=\"#打开/关闭文件\" data-toc-modified-id=\"打开/关闭文件-2.6\"><span class=\"toc-item-num\">2.6&nbsp;&nbsp;</span>打开/关闭文件</a></span></li><li><span><a href=\"#文件的重命名、删除\" data-toc-modified-id=\"文件的重命名、删除-2.7\"><span class=\"toc-item-num\">2.7&nbsp;&nbsp;</span>文件的重命名、删除</a></span><ul class=\"toc-item\"><li><span><a href=\"#文件重命名\" data-toc-modified-id=\"文件重命名-2.7.1\"><span class=\"toc-item-num\">2.7.1&nbsp;&nbsp;</span>文件重命名</a></span></li><li><span><a href=\"#删除文件\" data-toc-modified-id=\"删除文件-2.7.2\"><span class=\"toc-item-num\">2.7.2&nbsp;&nbsp;</span>删除文件</a></span></li></ul></li><li><span><a href=\"#文件夹的相关操作\" data-toc-modified-id=\"文件夹的相关操作-2.8\"><span class=\"toc-item-num\">2.8&nbsp;&nbsp;</span>文件夹的相关操作</a></span><ul class=\"toc-item\"><li><span><a href=\"#创建文件夹\" data-toc-modified-id=\"创建文件夹-2.8.1\"><span class=\"toc-item-num\">2.8.1&nbsp;&nbsp;</span>创建文件夹</a></span></li><li><span><a href=\"#获取当前目录\" data-toc-modified-id=\"获取当前目录-2.8.2\"><span class=\"toc-item-num\">2.8.2&nbsp;&nbsp;</span>获取当前目录</a></span></li><li><span><a href=\"#获取目录列表\" data-toc-modified-id=\"获取目录列表-2.8.3\"><span class=\"toc-item-num\">2.8.3&nbsp;&nbsp;</span>获取目录列表</a></span></li><li><span><a href=\"#删除文件夹\" data-toc-modified-id=\"删除文件夹-2.8.4\"><span class=\"toc-item-num\">2.8.4&nbsp;&nbsp;</span>删除文件夹</a></span></li></ul></li><li><span><a href=\"#应用1:制作文件的备份\" data-toc-modified-id=\"应用1:制作文件的备份-2.9\"><span class=\"toc-item-num\">2.9&nbsp;&nbsp;</span>应用1:制作文件的备份</a></span></li><li><span><a href=\"#应用2：批量修改文件名\" data-toc-modified-id=\"应用2：批量修改文件名-2.10\"><span class=\"toc-item-num\">2.10&nbsp;&nbsp;</span>应用2：批量修改文件名</a></span></li><li><span><a href=\"#os方法大全\" data-toc-modified-id=\"os方法大全-2.11\"><span class=\"toc-item-num\">2.11&nbsp;&nbsp;</span>os方法大全</a></span></li><li><span><a href=\"#作业\" data-toc-modified-id=\"作业-2.12\"><span class=\"toc-item-num\">2.12&nbsp;&nbsp;</span>作业</a></span></li></ul></li></ul></div>"
   ]
  },
  {
   "cell_type": "code",
   "execution_count": null,
   "metadata": {
    "collapsed": true
   },
   "outputs": [],
   "source": []
  },
  {
   "cell_type": "markdown",
   "metadata": {},
   "source": [
    "# 模块"
   ]
  },
  {
   "cell_type": "markdown",
   "metadata": {},
   "source": [
    "在Python中有一个概念叫做模块（module），这个和C语言中的头文件以及Java中的包很类似，比如在Python中要调用sqrt函数，必须用import关键字引入math这个模块，下面就来了解一下Python中的模块。\n",
    "\n",
    "说的通俗点：模块就好比是工具包，要想使用这个工具包中的工具(就好比函数)，就需要导入这个模块"
   ]
  },
  {
   "cell_type": "markdown",
   "metadata": {},
   "source": [
    "## import"
   ]
  },
  {
   "cell_type": "markdown",
   "metadata": {},
   "source": [
    "在Python中用关键字import来引入某个模块，比如要引用模块math，就可以在文件最开始的地方用import math来引入。\n",
    "\n",
    "形如:\n",
    "\n",
    "    import module1,mudule2...\n",
    "当解释器遇到import语句，如果模块在当前的搜索路径就会被导入。\n",
    "\n",
    "在调用math模块中的函数时，必须这样引用：\n",
    "\n",
    "　　模块名.函数名"
   ]
  },
  {
   "cell_type": "code",
   "execution_count": 41,
   "metadata": {},
   "outputs": [
    {
     "data": {
      "text/plain": [
       "2.0"
      ]
     },
     "execution_count": 41,
     "metadata": {},
     "output_type": "execute_result"
    }
   ],
   "source": [
    "import math\n",
    "math.sqrt(4)"
   ]
  },
  {
   "cell_type": "code",
   "execution_count": 6,
   "metadata": {
    "collapsed": true
   },
   "outputs": [],
   "source": [
    "from math import *\n",
    "from math_cal import *"
   ]
  },
  {
   "cell_type": "code",
   "execution_count": null,
   "metadata": {
    "collapsed": true
   },
   "outputs": [],
   "source": [
    "math.sin"
   ]
  },
  {
   "cell_type": "code",
   "execution_count": 3,
   "metadata": {},
   "outputs": [
    {
     "data": {
      "text/plain": [
       "10.0"
      ]
     },
     "execution_count": 3,
     "metadata": {},
     "output_type": "execute_result"
    }
   ],
   "source": [
    "sin()"
   ]
  },
  {
   "cell_type": "code",
   "execution_count": 5,
   "metadata": {},
   "outputs": [
    {
     "data": {
      "text/plain": [
       "2.0"
      ]
     },
     "execution_count": 5,
     "metadata": {},
     "output_type": "execute_result"
    }
   ],
   "source": [
    "math.sin()\n",
    "math_cal.sin()"
   ]
  },
  {
   "cell_type": "markdown",
   "metadata": {},
   "source": [
    "想一想:\n",
    "\n",
    "为什么必须加上模块名调用呢？\n",
    "\n",
    "答:\n",
    "\n",
    "因为可能存在这样一种情况：在多个模块中含有相同名称的函数，此时如果只是通过函数名来调用，解释器无法知道到底要调用哪个函数。所以如果像上述这样引入模块的时候，调用函数必须加上模块名\n",
    "\n",
    "    import math\n",
    "\n",
    "    #这样会报错\n",
    "    print sqrt(2)\n",
    "\n",
    "    #这样才能正确输出结果\n",
    "    print (math.sqrt(2))\n"
   ]
  },
  {
   "cell_type": "markdown",
   "metadata": {},
   "source": [
    "## from 模块名 import 函数名1,函数名2...."
   ]
  },
  {
   "cell_type": "code",
   "execution_count": 44,
   "metadata": {
    "collapsed": true
   },
   "outputs": [],
   "source": [
    "from datetime import datetime"
   ]
  },
  {
   "cell_type": "code",
   "execution_count": 45,
   "metadata": {},
   "outputs": [
    {
     "data": {
      "text/plain": [
       "datetime.datetime(2018, 7, 8, 18, 34, 55, 347692)"
      ]
     },
     "execution_count": 45,
     "metadata": {},
     "output_type": "execute_result"
    }
   ],
   "source": [
    "datetime.now()"
   ]
  },
  {
   "cell_type": "markdown",
   "metadata": {},
   "source": [
    "有时候我们只需要用到模块中的某个函数，只需要引入该函数即可，此时可以用下面方法实现：\n",
    "\n",
    "    from 模块名 import 函数名1,函数名2....\n",
    "不仅可以引入函数，还可以引入一些全局变量、类等\n",
    "\n",
    "注意:\n",
    "\n",
    "通过这种方式引入的时候，调用函数时只能给出函数名，不能给出模块名，但是当两个模块中含有相同名称函数的时候，后面一次引入会覆盖前一次引入。也就是说假如模块A中有函数function( )，在模块B中也有函数function( )，如果引入A中的function在先、B中的function在后，那么当调用function函数的时候，是去执行模块B中的function函数。\n",
    "\n",
    "如果想一次性引入math中所有的东西，还可以通过from math import *来实现"
   ]
  },
  {
   "cell_type": "code",
   "execution_count": 42,
   "metadata": {
    "collapsed": true
   },
   "outputs": [],
   "source": [
    "from math import *"
   ]
  },
  {
   "cell_type": "code",
   "execution_count": 43,
   "metadata": {},
   "outputs": [
    {
     "data": {
      "text/plain": [
       "2.0"
      ]
     },
     "execution_count": 43,
     "metadata": {},
     "output_type": "execute_result"
    }
   ],
   "source": [
    "sqrt(4)"
   ]
  },
  {
   "cell_type": "markdown",
   "metadata": {},
   "source": [
    "from…import\n",
    "Python的from语句让你从模块中导入一个指定的部分到当前命名空间中\n",
    "\n",
    "语法如下：\n",
    "\n",
    "    from modname import name1[, name2[, ... nameN]]\n",
    "例如，要导入模块fib的fibonacci函数，使用如下语句：\n",
    "\n",
    "    from fib import fibonacci"
   ]
  },
  {
   "cell_type": "markdown",
   "metadata": {},
   "source": [
    "## as"
   ]
  },
  {
   "cell_type": "code",
   "execution_count": 1,
   "metadata": {
    "collapsed": true
   },
   "outputs": [],
   "source": [
    "import pandas as pd"
   ]
  },
  {
   "cell_type": "code",
   "execution_count": 4,
   "metadata": {
    "collapsed": true
   },
   "outputs": [],
   "source": [
    "import matplotlib.pyplot as plt"
   ]
  },
  {
   "cell_type": "code",
   "execution_count": 6,
   "metadata": {},
   "outputs": [
    {
     "data": {
      "image/png": "[encoded data removed]",
      "text/plain": [
       "<Figure size 432x288 with 1 Axes>"
      ]
     },
     "metadata": {},
     "output_type": "display_data"
    }
   ],
   "source": [
    "plt.plot([1, 2, 3])\n",
    "plt.show()"
   ]
  },
  {
   "cell_type": "code",
   "execution_count": 3,
   "metadata": {},
   "outputs": [
    {
     "data": {
      "text/html": [
       "<div>\n",
       "<style scoped>\n",
       "    .dataframe tbody tr th:only-of-type {\n",
       "        vertical-align: middle;\n",
       "    }\n",
       "\n",
       "    .dataframe tbody tr th {\n",
       "        vertical-align: top;\n",
       "    }\n",
       "\n",
       "    .dataframe thead th {\n",
       "        text-align: right;\n",
       "    }\n",
       "</style>\n",
       "<table border=\"1\" class=\"dataframe\">\n",
       "  <thead>\n",
       "    <tr style=\"text-align: right;\">\n",
       "      <th></th>\n",
       "      <th>0</th>\n",
       "    </tr>\n",
       "  </thead>\n",
       "  <tbody>\n",
       "    <tr>\n",
       "      <th>0</th>\n",
       "      <td>1</td>\n",
       "    </tr>\n",
       "    <tr>\n",
       "      <th>1</th>\n",
       "      <td>2</td>\n",
       "    </tr>\n",
       "    <tr>\n",
       "      <th>2</th>\n",
       "      <td>3</td>\n",
       "    </tr>\n",
       "  </tbody>\n",
       "</table>\n",
       "</div>"
      ],
      "text/plain": [
       "   0\n",
       "0  1\n",
       "1  2\n",
       "2  3"
      ]
     },
     "execution_count": 3,
     "metadata": {},
     "output_type": "execute_result"
    }
   ],
   "source": [
    "pd.DataFrame([1, 2, 3])"
   ]
  },
  {
   "cell_type": "code",
   "execution_count": 2,
   "metadata": {},
   "outputs": [
    {
     "ename": "NameError",
     "evalue": "name 'pandas' is not defined",
     "output_type": "error",
     "traceback": [
      "\u001b[1;31m---------------------------------------------------------------------------\u001b[0m",
      "\u001b[1;31mNameError\u001b[0m                                 Traceback (most recent call last)",
      "\u001b[1;32m<ipython-input-2-64c8764c5e32>\u001b[0m in \u001b[0;36m<module>\u001b[1;34m()\u001b[0m\n\u001b[1;32m----> 1\u001b[1;33m \u001b[0mpandas\u001b[0m\u001b[1;33m.\u001b[0m\u001b[0mDataFrame\u001b[0m\u001b[1;33m(\u001b[0m\u001b[1;33m[\u001b[0m\u001b[1;36m1\u001b[0m\u001b[1;33m,\u001b[0m \u001b[1;36m2\u001b[0m\u001b[1;33m,\u001b[0m \u001b[1;36m3\u001b[0m\u001b[1;33m]\u001b[0m\u001b[1;33m,\u001b[0m \u001b[0mcolumns\u001b[0m\u001b[1;33m=\u001b[0m\u001b[1;33m[\u001b[0m\u001b[1;34m'第一列'\u001b[0m\u001b[1;33m]\u001b[0m\u001b[1;33m,\u001b[0m \u001b[0mindex\u001b[0m\u001b[1;33m=\u001b[0m\u001b[1;33m[\u001b[0m\u001b[1;34m'第一行'\u001b[0m\u001b[1;33m,\u001b[0m\u001b[1;34m'第二行'\u001b[0m\u001b[1;33m,\u001b[0m \u001b[1;34m'第三行'\u001b[0m\u001b[1;33m]\u001b[0m\u001b[1;33m)\u001b[0m\u001b[1;33m\u001b[0m\u001b[0m\n\u001b[0m",
      "\u001b[1;31mNameError\u001b[0m: name 'pandas' is not defined"
     ]
    }
   ],
   "source": [
    "pandas.DataFrame([1, 2, 3], columns=['第一列'], index=['第一行','第二行', '第三行'])"
   ]
  },
  {
   "cell_type": "code",
   "execution_count": null,
   "metadata": {
    "collapsed": true
   },
   "outputs": [],
   "source": []
  },
  {
   "cell_type": "code",
   "execution_count": null,
   "metadata": {
    "collapsed": true
   },
   "outputs": [],
   "source": []
  },
  {
   "cell_type": "code",
   "execution_count": 46,
   "metadata": {
    "collapsed": true
   },
   "outputs": [],
   "source": [
    "import time as tt"
   ]
  },
  {
   "cell_type": "code",
   "execution_count": 47,
   "metadata": {},
   "outputs": [
    {
     "ename": "NameError",
     "evalue": "name 'time' is not defined",
     "output_type": "error",
     "traceback": [
      "\u001b[1;31m---------------------------------------------------------------------------\u001b[0m",
      "\u001b[1;31mNameError\u001b[0m                                 Traceback (most recent call last)",
      "\u001b[1;32m<ipython-input-47-5e5a84322b49>\u001b[0m in \u001b[0;36m<module>\u001b[1;34m()\u001b[0m\n\u001b[1;32m----> 1\u001b[1;33m \u001b[0mtime\u001b[0m\u001b[1;33m.\u001b[0m\u001b[0msleep\u001b[0m\u001b[1;33m(\u001b[0m\u001b[1;36m1\u001b[0m\u001b[1;33m)\u001b[0m\u001b[1;33m\u001b[0m\u001b[0m\n\u001b[0m",
      "\u001b[1;31mNameError\u001b[0m: name 'time' is not defined"
     ]
    }
   ],
   "source": [
    "time.sleep(1)"
   ]
  },
  {
   "cell_type": "code",
   "execution_count": 48,
   "metadata": {
    "collapsed": true
   },
   "outputs": [],
   "source": [
    "tt.sleep(1)"
   ]
  },
  {
   "cell_type": "code",
   "execution_count": 49,
   "metadata": {
    "collapsed": true
   },
   "outputs": [],
   "source": [
    "from time import sleep as sp"
   ]
  },
  {
   "cell_type": "code",
   "execution_count": 50,
   "metadata": {
    "collapsed": true
   },
   "outputs": [],
   "source": [
    "sp(1)"
   ]
  },
  {
   "cell_type": "code",
   "execution_count": 9,
   "metadata": {
    "collapsed": true
   },
   "outputs": [],
   "source": [
    "import abc\n",
    "import sys"
   ]
  },
  {
   "cell_type": "code",
   "execution_count": 13,
   "metadata": {
    "collapsed": true
   },
   "outputs": [],
   "source": [
    "import math"
   ]
  },
  {
   "cell_type": "code",
   "execution_count": 14,
   "metadata": {},
   "outputs": [
    {
     "name": "stdout",
     "output_type": "stream",
     "text": [
      "['__doc__', '__loader__', '__name__', '__package__', '__spec__', 'acos', 'acosh', 'asin', 'asinh', 'atan', 'atan2', 'atanh', 'ceil', 'copysign', 'cos', 'cosh', 'degrees', 'e', 'erf', 'erfc', 'exp', 'expm1', 'fabs', 'factorial', 'floor', 'fmod', 'frexp', 'fsum', 'gamma', 'gcd', 'hypot', 'inf', 'isclose', 'isfinite', 'isinf', 'isnan', 'ldexp', 'lgamma', 'log', 'log10', 'log1p', 'log2', 'modf', 'nan', 'pi', 'pow', 'radians', 'sin', 'sinh', 'sqrt', 'tan', 'tanh', 'trunc']\n"
     ]
    }
   ],
   "source": [
    "print(dir(math))"
   ]
  },
  {
   "cell_type": "code",
   "execution_count": 4,
   "metadata": {},
   "outputs": [
    {
     "data": {
      "text/plain": [
       "'__main__'"
      ]
     },
     "execution_count": 4,
     "metadata": {},
     "output_type": "execute_result"
    }
   ],
   "source": [
    "__name__"
   ]
  },
  {
   "cell_type": "markdown",
   "metadata": {},
   "source": [
    "## 定义自己的模块"
   ]
  },
  {
   "cell_type": "markdown",
   "metadata": {},
   "source": [
    "在Python中，每个Python文件都可以作为一个模块，模块的名字就是文件的名字。\n",
    "\n",
    "比如有这样一个文件test.py，在test.py中定义了函数add\n",
    "\n",
    "test.py\n",
    "\n",
    "\n",
    "    def add(a,b):\n",
    "        return a+b"
   ]
  },
  {
   "cell_type": "markdown",
   "metadata": {},
   "source": [
    "## 用自己定义的模块"
   ]
  },
  {
   "cell_type": "code",
   "execution_count": 15,
   "metadata": {
    "collapsed": true
   },
   "outputs": [],
   "source": [
    "import test"
   ]
  },
  {
   "cell_type": "code",
   "execution_count": 16,
   "metadata": {},
   "outputs": [
    {
     "data": {
      "text/plain": [
       "300"
      ]
     },
     "execution_count": 16,
     "metadata": {},
     "output_type": "execute_result"
    }
   ],
   "source": [
    "test.add(100, 200)"
   ]
  },
  {
   "cell_type": "code",
   "execution_count": 17,
   "metadata": {
    "collapsed": true
   },
   "outputs": [],
   "source": [
    "from test import add"
   ]
  },
  {
   "cell_type": "code",
   "execution_count": 18,
   "metadata": {},
   "outputs": [
    {
     "data": {
      "text/plain": [
       "300"
      ]
     },
     "execution_count": 18,
     "metadata": {},
     "output_type": "execute_result"
    }
   ],
   "source": [
    "add(100, 200)"
   ]
  },
  {
   "cell_type": "code",
   "execution_count": 22,
   "metadata": {},
   "outputs": [
    {
     "name": "stdout",
     "output_type": "stream",
     "text": [
      "this is main\n"
     ]
    }
   ],
   "source": [
    "if __name__ == '__main__':\n",
    "    print(\"this is main\")"
   ]
  },
  {
   "cell_type": "code",
   "execution_count": 4,
   "metadata": {
    "collapsed": true
   },
   "outputs": [],
   "source": [
    "import test2"
   ]
  },
  {
   "cell_type": "code",
   "execution_count": 5,
   "metadata": {},
   "outputs": [
    {
     "name": "stdout",
     "output_type": "stream",
     "text": [
      "test2\n",
      "你好\n"
     ]
    },
    {
     "data": {
      "text/plain": [
       "300"
      ]
     },
     "execution_count": 5,
     "metadata": {},
     "output_type": "execute_result"
    }
   ],
   "source": [
    "test2.add(100, 200)"
   ]
  },
  {
   "cell_type": "markdown",
   "metadata": {},
   "source": [
    "调用自己定义的模块\n",
    "那么在其他文件中就可以先import test，然后通过test.add(a,b)来调用了，当然也可以通过from test import add来引入\n",
    "\n",
    "main.py\n",
    "\n",
    "\n",
    "    import test\n",
    "\n",
    "    result = test.add(11,22)\n",
    "    print(result)"
   ]
  },
  {
   "attachments": {
    "_auto_0": {
     "image/png": "[encoded data removed]"
    }
   },
   "cell_type": "markdown",
   "metadata": {},
   "source": [
    "![_auto_0](attachment:_auto_0)"
   ]
  },
  {
   "cell_type": "code",
   "execution_count": null,
   "metadata": {
    "collapsed": true
   },
   "outputs": [],
   "source": []
  },
  {
   "cell_type": "code",
   "execution_count": null,
   "metadata": {
    "collapsed": true
   },
   "outputs": [],
   "source": []
  },
  {
   "cell_type": "markdown",
   "metadata": {},
   "source": [
    "## datetime时间模块"
   ]
  },
  {
   "cell_type": "code",
   "execution_count": 8,
   "metadata": {
    "collapsed": true
   },
   "outputs": [],
   "source": [
    "from datetime import datetime"
   ]
  },
  {
   "cell_type": "code",
   "execution_count": 7,
   "metadata": {},
   "outputs": [
    {
     "data": {
      "text/plain": [
       "['MAXYEAR',\n",
       " 'MINYEAR',\n",
       " '__builtins__',\n",
       " '__cached__',\n",
       " '__doc__',\n",
       " '__file__',\n",
       " '__loader__',\n",
       " '__name__',\n",
       " '__package__',\n",
       " '__spec__',\n",
       " '_divide_and_round',\n",
       " 'date',\n",
       " 'datetime',\n",
       " 'datetime_CAPI',\n",
       " 'time',\n",
       " 'timedelta',\n",
       " 'timezone',\n",
       " 'tzinfo']"
      ]
     },
     "execution_count": 7,
     "metadata": {},
     "output_type": "execute_result"
    }
   ],
   "source": []
  },
  {
   "cell_type": "code",
   "execution_count": 2,
   "metadata": {
    "collapsed": true
   },
   "outputs": [],
   "source": [
    "from datetime import datetime\n",
    "# 这里注意, 如果使用的是语法import datetime\n",
    "# 则导入整个datetime包, 要使用datetime.datetime才能够使用"
   ]
  },
  {
   "cell_type": "code",
   "execution_count": 9,
   "metadata": {},
   "outputs": [
    {
     "name": "stdout",
     "output_type": "stream",
     "text": [
      "['__add__', '__class__', '__delattr__', '__dir__', '__doc__', '__eq__', '__format__', '__ge__', '__getattribute__', '__gt__', '__hash__', '__init__', '__le__', '__lt__', '__ne__', '__new__', '__radd__', '__reduce__', '__reduce_ex__', '__repr__', '__rsub__', '__setattr__', '__sizeof__', '__str__', '__sub__', '__subclasshook__', 'astimezone', 'combine', 'ctime', 'date', 'day', 'dst', 'fromordinal', 'fromtimestamp', 'hour', 'isocalendar', 'isoformat', 'isoweekday', 'max', 'microsecond', 'min', 'minute', 'month', 'now', 'replace', 'resolution', 'second', 'strftime', 'strptime', 'time', 'timestamp', 'timetuple', 'timetz', 'today', 'toordinal', 'tzinfo', 'tzname', 'utcfromtimestamp', 'utcnow', 'utcoffset', 'utctimetuple', 'weekday', 'year']\n"
     ]
    }
   ],
   "source": [
    "print(dir(datetime))"
   ]
  },
  {
   "cell_type": "code",
   "execution_count": 13,
   "metadata": {},
   "outputs": [
    {
     "data": {
      "text/plain": [
       "datetime.datetime(2018, 7, 16, 10, 21, 13, 889209)"
      ]
     },
     "execution_count": 13,
     "metadata": {},
     "output_type": "execute_result"
    }
   ],
   "source": [
    "datetime.now()"
   ]
  },
  {
   "cell_type": "code",
   "execution_count": 11,
   "metadata": {},
   "outputs": [
    {
     "data": {
      "text/plain": [
       "datetime.datetime(2018, 7, 16, 10, 20, 49, 480110)"
      ]
     },
     "execution_count": 11,
     "metadata": {},
     "output_type": "execute_result"
    }
   ],
   "source": [
    "now = datetime.now()\n",
    "now"
   ]
  },
  {
   "cell_type": "code",
   "execution_count": 12,
   "metadata": {},
   "outputs": [
    {
     "name": "stdout",
     "output_type": "stream",
     "text": [
      "2018-07-16 10:20:49.480110\n"
     ]
    }
   ],
   "source": [
    "print(now)"
   ]
  },
  {
   "cell_type": "code",
   "execution_count": null,
   "metadata": {
    "collapsed": true
   },
   "outputs": [],
   "source": []
  },
  {
   "cell_type": "code",
   "execution_count": 8,
   "metadata": {},
   "outputs": [
    {
     "data": {
      "text/plain": [
       "datetime.datetime"
      ]
     },
     "execution_count": 8,
     "metadata": {},
     "output_type": "execute_result"
    }
   ],
   "source": [
    "type(now)"
   ]
  },
  {
   "cell_type": "code",
   "execution_count": null,
   "metadata": {
    "collapsed": true
   },
   "outputs": [],
   "source": [
    "datetime()"
   ]
  },
  {
   "cell_type": "code",
   "execution_count": 16,
   "metadata": {},
   "outputs": [
    {
     "name": "stdout",
     "output_type": "stream",
     "text": [
      "2000-01-01 01:01:01\n"
     ]
    }
   ],
   "source": [
    "print(datetime(2000, 1, 1, 1, 1, 1))"
   ]
  },
  {
   "cell_type": "code",
   "execution_count": 2,
   "metadata": {
    "scrolled": true
   },
   "outputs": [
    {
     "name": "stdout",
     "output_type": "stream",
     "text": [
      "2018-07-07 12:31:13\n"
     ]
    }
   ],
   "source": [
    "dt = datetime(2018, 7, 7, 12, 31, 13) \n",
    "dt\n",
    "print(dt)"
   ]
  },
  {
   "cell_type": "code",
   "execution_count": 19,
   "metadata": {},
   "outputs": [
    {
     "data": {
      "text/plain": [
       "2018"
      ]
     },
     "execution_count": 19,
     "metadata": {},
     "output_type": "execute_result"
    }
   ],
   "source": [
    "dt.year"
   ]
  },
  {
   "cell_type": "code",
   "execution_count": 21,
   "metadata": {},
   "outputs": [
    {
     "data": {
      "text/plain": [
       "7"
      ]
     },
     "execution_count": 21,
     "metadata": {},
     "output_type": "execute_result"
    }
   ],
   "source": [
    "dt.month"
   ]
  },
  {
   "cell_type": "code",
   "execution_count": 22,
   "metadata": {},
   "outputs": [
    {
     "data": {
      "text/plain": [
       "7"
      ]
     },
     "execution_count": 22,
     "metadata": {},
     "output_type": "execute_result"
    }
   ],
   "source": [
    "dt.day"
   ]
  },
  {
   "cell_type": "code",
   "execution_count": 23,
   "metadata": {},
   "outputs": [
    {
     "data": {
      "text/plain": [
       "12"
      ]
     },
     "execution_count": 23,
     "metadata": {},
     "output_type": "execute_result"
    }
   ],
   "source": [
    "dt.hour"
   ]
  },
  {
   "cell_type": "code",
   "execution_count": 25,
   "metadata": {},
   "outputs": [
    {
     "data": {
      "text/plain": [
       "31"
      ]
     },
     "execution_count": 25,
     "metadata": {},
     "output_type": "execute_result"
    }
   ],
   "source": [
    "dt.minute"
   ]
  },
  {
   "cell_type": "code",
   "execution_count": 26,
   "metadata": {},
   "outputs": [
    {
     "data": {
      "text/plain": [
       "13"
      ]
     },
     "execution_count": 26,
     "metadata": {},
     "output_type": "execute_result"
    }
   ],
   "source": [
    "dt.second"
   ]
  },
  {
   "cell_type": "code",
   "execution_count": null,
   "metadata": {
    "collapsed": true
   },
   "outputs": [],
   "source": []
  },
  {
   "cell_type": "markdown",
   "metadata": {},
   "source": [
    "### 取出时间中的某一部分"
   ]
  },
  {
   "cell_type": "code",
   "execution_count": 31,
   "metadata": {},
   "outputs": [
    {
     "data": {
      "text/plain": [
       "2018"
      ]
     },
     "execution_count": 31,
     "metadata": {},
     "output_type": "execute_result"
    },
    {
     "data": {
      "text/plain": [
       "7"
      ]
     },
     "execution_count": 31,
     "metadata": {},
     "output_type": "execute_result"
    },
    {
     "data": {
      "text/plain": [
       "7"
      ]
     },
     "execution_count": 31,
     "metadata": {},
     "output_type": "execute_result"
    },
    {
     "data": {
      "text/plain": [
       "12"
      ]
     },
     "execution_count": 31,
     "metadata": {},
     "output_type": "execute_result"
    },
    {
     "data": {
      "text/plain": [
       "31"
      ]
     },
     "execution_count": 31,
     "metadata": {},
     "output_type": "execute_result"
    },
    {
     "data": {
      "text/plain": [
       "13"
      ]
     },
     "execution_count": 31,
     "metadata": {},
     "output_type": "execute_result"
    }
   ],
   "source": [
    "\n",
    "dt.year\n",
    "dt.month\n",
    "dt.day\n",
    "dt.hour\n",
    "dt.minute\n",
    "dt.second"
   ]
  },
  {
   "cell_type": "markdown",
   "metadata": {},
   "source": [
    "### datetime与时间戳"
   ]
  },
  {
   "cell_type": "markdown",
   "metadata": {},
   "source": [
    "电脑中的时间由cpu储存, 所以一般叫做cpu时间.\n",
    "\n",
    "cpu时间是计算从1970年1月1日0点0分到目前这个时间点所经历的的秒数\n",
    "\n",
    "什么?你说1970年以前的时间, 那当然就是负的啦"
   ]
  },
  {
   "cell_type": "code",
   "execution_count": 31,
   "metadata": {},
   "outputs": [
    {
     "data": {
      "text/plain": [
       "1530937873.0"
      ]
     },
     "execution_count": 31,
     "metadata": {},
     "output_type": "execute_result"
    }
   ],
   "source": [
    "dt.timestamp()"
   ]
  },
  {
   "cell_type": "code",
   "execution_count": 33,
   "metadata": {},
   "outputs": [
    {
     "data": {
      "text/plain": [
       "1530937873.0"
      ]
     },
     "execution_count": 33,
     "metadata": {},
     "output_type": "execute_result"
    }
   ],
   "source": [
    "datetime.timestamp(dt)"
   ]
  },
  {
   "cell_type": "markdown",
   "metadata": {},
   "source": [
    "#### 时间戳和datetime转换\n",
    "\n",
    "那么时间戳和datetime之间如何转换呢?\n",
    "\n",
    "把一个datetime类型转换为timestamp需要调用timestamp()方法"
   ]
  },
  {
   "cell_type": "code",
   "execution_count": 27,
   "metadata": {},
   "outputs": [
    {
     "data": {
      "text/plain": [
       "datetime.datetime(2018, 7, 7, 0, 0)"
      ]
     },
     "execution_count": 27,
     "metadata": {},
     "output_type": "execute_result"
    },
    {
     "data": {
      "text/plain": [
       "1530892800.0"
      ]
     },
     "execution_count": 27,
     "metadata": {},
     "output_type": "execute_result"
    }
   ],
   "source": [
    "dt\n",
    "stamp = dt.timestamp()\n",
    "#这说明从1970年到2018年7月7日0点 一共经历了15亿多秒\n",
    "stamp"
   ]
  },
  {
   "cell_type": "markdown",
   "metadata": {},
   "source": [
    "timestamp转换为datetime"
   ]
  },
  {
   "cell_type": "code",
   "execution_count": 34,
   "metadata": {
    "collapsed": true
   },
   "outputs": [],
   "source": [
    "datetime_test = 150000000"
   ]
  },
  {
   "cell_type": "code",
   "execution_count": 36,
   "metadata": {},
   "outputs": [
    {
     "data": {
      "text/plain": [
       "datetime.datetime(1974, 10, 3, 10, 40)"
      ]
     },
     "execution_count": 36,
     "metadata": {},
     "output_type": "execute_result"
    }
   ],
   "source": [
    "datetime.fromtimestamp(datetime_test)"
   ]
  },
  {
   "cell_type": "code",
   "execution_count": null,
   "metadata": {
    "collapsed": true
   },
   "outputs": [],
   "source": []
  },
  {
   "cell_type": "code",
   "execution_count": 33,
   "metadata": {},
   "outputs": [
    {
     "data": {
      "text/plain": [
       "datetime.datetime(1998, 3, 3, 9, 34, 48)"
      ]
     },
     "execution_count": 33,
     "metadata": {},
     "output_type": "execute_result"
    }
   ],
   "source": [
    "datetime.fromtimestamp(888888888)"
   ]
  },
  {
   "cell_type": "markdown",
   "metadata": {},
   "source": [
    "### str转换为datetime"
   ]
  },
  {
   "cell_type": "markdown",
   "metadata": {},
   "source": [
    "很多时候，用户输入的日期和时间是字符串，要处理日期和时间，首先必须把str转换为datetime。转换方法是通过datetime.strptime()实现，需要一个日期和时间的格式化字符串："
   ]
  },
  {
   "cell_type": "code",
   "execution_count": 39,
   "metadata": {},
   "outputs": [
    {
     "name": "stdout",
     "output_type": "stream",
     "text": [
      "请输入你想查询的时间: 格式为: 2018-09-12 08:08:12\n",
      "2018-09-12 08:08:12\n"
     ]
    }
   ],
   "source": [
    "time = input(\"请输入你想查询的时间: 格式为: \")\n",
    "c = datetime.strptime(time, '%Y-%m-%d %H:%M:%S')\n",
    "print(c)"
   ]
  },
  {
   "cell_type": "code",
   "execution_count": null,
   "metadata": {
    "collapsed": true
   },
   "outputs": [],
   "source": []
  },
  {
   "cell_type": "code",
   "execution_count": 37,
   "metadata": {},
   "outputs": [
    {
     "name": "stdout",
     "output_type": "stream",
     "text": [
      "请输入时间: 格式为年-月-日2018-7-7\n",
      "2018-07-07 00:00:00\n"
     ]
    }
   ],
   "source": [
    "dt2 = input(\"请输入时间: 格式为年-月-日\")\n",
    "cday = datetime.strptime(dt2, '%Y-%m-%d')\n",
    "print(cday)"
   ]
  },
  {
   "cell_type": "code",
   "execution_count": 38,
   "metadata": {},
   "outputs": [
    {
     "name": "stdout",
     "output_type": "stream",
     "text": [
      "请输入时间: 格式为年-月-日 时:分:秒2008-8-8 13:12:11\n"
     ]
    },
    {
     "data": {
      "text/plain": [
       "datetime.datetime(2008, 8, 8, 13, 12, 11)"
      ]
     },
     "execution_count": 38,
     "metadata": {},
     "output_type": "execute_result"
    }
   ],
   "source": [
    "dt3 = input(\"请输入时间: 格式为年-月-日 时:分:秒\")\n",
    "cday3 = datetime.strptime(dt3,  '%Y-%m-%d %H:%M:%S' )\n",
    "cday3\n"
   ]
  },
  {
   "cell_type": "code",
   "execution_count": 39,
   "metadata": {},
   "outputs": [
    {
     "name": "stdout",
     "output_type": "stream",
     "text": [
      "2008-08-08 13:12:11\n"
     ]
    }
   ],
   "source": [
    "print(cday3)"
   ]
  },
  {
   "cell_type": "code",
   "execution_count": 43,
   "metadata": {},
   "outputs": [
    {
     "name": "stdout",
     "output_type": "stream",
     "text": [
      "请输入时间: 格式为年-月-日 时:分:秒1988年8月8日 8时8分8秒\n",
      "1988-08-08 08:08:08\n"
     ]
    }
   ],
   "source": [
    "dt4 = input(\"请输入时间: 格式为年-月-日 时:分:秒\")\n",
    "cday4 = datetime.strptime(dt4,  '%Y年%m月%d日 %H时%M分%S秒' )\n",
    "\n",
    "print(cday4)"
   ]
  },
  {
   "cell_type": "code",
   "execution_count": 51,
   "metadata": {},
   "outputs": [
    {
     "data": {
      "text/plain": [
       "datetime.date"
      ]
     },
     "execution_count": 51,
     "metadata": {},
     "output_type": "execute_result"
    }
   ],
   "source": [
    "# 取出date的部分\n",
    "type(cday4.date())"
   ]
  },
  {
   "cell_type": "code",
   "execution_count": 52,
   "metadata": {},
   "outputs": [
    {
     "data": {
      "text/plain": [
       "datetime.time"
      ]
     },
     "execution_count": 52,
     "metadata": {},
     "output_type": "execute_result"
    }
   ],
   "source": [
    "# 取出time的部分\n",
    "type(cday4.time())"
   ]
  },
  {
   "cell_type": "code",
   "execution_count": null,
   "metadata": {
    "collapsed": true
   },
   "outputs": [],
   "source": [
    "请求用户输入一个 年月日 时分 然后打印出用户输入的时间\n",
    "然后, 单独打印出用户输入的\n",
    "年\n",
    "小时"
   ]
  },
  {
   "cell_type": "markdown",
   "metadata": {},
   "source": [
    "### datetime转换为str "
   ]
  },
  {
   "cell_type": "markdown",
   "metadata": {},
   "source": [
    "如果已经有了datetime对象，要把它格式化为字符串显示给用户，就需要转换为str，转换方法是通过strftime()实现的，同样需要一个日期和时间的格式化字符串："
   ]
  },
  {
   "cell_type": "markdown",
   "metadata": {},
   "source": [
    "格式化的方法\n",
    "https://docs.python.org/3/library/datetime.html#strftime-strptime-behavior"
   ]
  },
  {
   "cell_type": "code",
   "execution_count": 1,
   "metadata": {
    "collapsed": true
   },
   "outputs": [],
   "source": [
    "from datetime import datetime"
   ]
  },
  {
   "cell_type": "code",
   "execution_count": 48,
   "metadata": {},
   "outputs": [
    {
     "data": {
      "text/plain": [
       "datetime.datetime(2018, 7, 7, 12, 31, 13)"
      ]
     },
     "execution_count": 48,
     "metadata": {},
     "output_type": "execute_result"
    }
   ],
   "source": [
    "dt"
   ]
  },
  {
   "cell_type": "code",
   "execution_count": 3,
   "metadata": {},
   "outputs": [
    {
     "data": {
      "text/plain": [
       "'18-07-07 12:31:13'"
      ]
     },
     "execution_count": 3,
     "metadata": {},
     "output_type": "execute_result"
    }
   ],
   "source": [
    "dt.strftime('%y-%m-%d %H:%M:%S')"
   ]
  },
  {
   "cell_type": "code",
   "execution_count": 4,
   "metadata": {},
   "outputs": [
    {
     "data": {
      "text/plain": [
       "'2018 07 07'"
      ]
     },
     "execution_count": 4,
     "metadata": {},
     "output_type": "execute_result"
    }
   ],
   "source": [
    "dt.strftime('%Y %m %d')"
   ]
  },
  {
   "cell_type": "code",
   "execution_count": 6,
   "metadata": {},
   "outputs": [
    {
     "data": {
      "text/plain": [
       "'2018year07month07day'"
      ]
     },
     "execution_count": 6,
     "metadata": {},
     "output_type": "execute_result"
    }
   ],
   "source": [
    "dt.strftime('%Yyear%mmonth%dday')"
   ]
  },
  {
   "cell_type": "code",
   "execution_count": 74,
   "metadata": {},
   "outputs": [
    {
     "data": {
      "text/plain": [
       "datetime.datetime(1988, 8, 8, 8, 8, 8)"
      ]
     },
     "execution_count": 74,
     "metadata": {},
     "output_type": "execute_result"
    },
    {
     "data": {
      "text/plain": [
       "'1988 08 08'"
      ]
     },
     "execution_count": 74,
     "metadata": {},
     "output_type": "execute_result"
    }
   ],
   "source": [
    "cday4\n",
    "# cday4.strftime('%a')\n",
    "# cday4.strftime('%A')\n",
    "# cday4.strftime('%w')\n",
    "cday4.strftime('%Y %M %d')"
   ]
  },
  {
   "cell_type": "code",
   "execution_count": 60,
   "metadata": {},
   "outputs": [
    {
     "data": {
      "text/plain": [
       "datetime.datetime(1988, 8, 8, 8, 8, 8)"
      ]
     },
     "execution_count": 60,
     "metadata": {},
     "output_type": "execute_result"
    },
    {
     "data": {
      "text/plain": [
       "datetime.datetime(2018, 7, 7, 17, 50, 42, 482640)"
      ]
     },
     "execution_count": 60,
     "metadata": {},
     "output_type": "execute_result"
    },
    {
     "name": "stdout",
     "output_type": "stream",
     "text": [
      "Sat, Jul 07\n"
     ]
    }
   ],
   "source": [
    "now = datetime.now()\n",
    "cday4\n",
    "now\n",
    "print(now.strftime('%a, %b %d'))"
   ]
  },
  {
   "cell_type": "markdown",
   "metadata": {},
   "source": [
    "### datetime加减"
   ]
  },
  {
   "cell_type": "markdown",
   "metadata": {},
   "source": [
    "对日期和时间进行加减实际上就是把datetime往后或往前计算，得到新的datetime。加减可以直接用+和-运算符，不过需要导入timedelta这个类"
   ]
  },
  {
   "cell_type": "code",
   "execution_count": 55,
   "metadata": {
    "collapsed": true
   },
   "outputs": [],
   "source": [
    "from datetime import timedelta"
   ]
  },
  {
   "cell_type": "code",
   "execution_count": 57,
   "metadata": {},
   "outputs": [
    {
     "data": {
      "text/plain": [
       "datetime.datetime(2018, 7, 7, 12, 31, 13)"
      ]
     },
     "execution_count": 57,
     "metadata": {},
     "output_type": "execute_result"
    }
   ],
   "source": [
    "dt"
   ]
  },
  {
   "cell_type": "code",
   "execution_count": 58,
   "metadata": {},
   "outputs": [
    {
     "data": {
      "text/plain": [
       "datetime.datetime(2018, 6, 30, 12, 31, 13)"
      ]
     },
     "execution_count": 58,
     "metadata": {},
     "output_type": "execute_result"
    }
   ],
   "source": [
    "dt - timedelta(days=7)"
   ]
  },
  {
   "cell_type": "code",
   "execution_count": 63,
   "metadata": {},
   "outputs": [
    {
     "data": {
      "text/plain": [
       "datetime.datetime(2017, 7, 6, 12, 31, 13)"
      ]
     },
     "execution_count": 63,
     "metadata": {},
     "output_type": "execute_result"
    }
   ],
   "source": [
    "dt - timedelta(days=366)"
   ]
  },
  {
   "cell_type": "code",
   "execution_count": 64,
   "metadata": {},
   "outputs": [
    {
     "data": {
      "text/plain": [
       "datetime.datetime(2018, 7, 7, 12, 18, 13)"
      ]
     },
     "execution_count": 64,
     "metadata": {},
     "output_type": "execute_result"
    }
   ],
   "source": [
    "dt - timedelta(minutes=13)"
   ]
  },
  {
   "cell_type": "code",
   "execution_count": 66,
   "metadata": {},
   "outputs": [
    {
     "data": {
      "text/plain": [
       "datetime.datetime(2018, 7, 7, 12, 31, 13)"
      ]
     },
     "execution_count": 66,
     "metadata": {},
     "output_type": "execute_result"
    }
   ],
   "source": [
    "dt"
   ]
  },
  {
   "cell_type": "code",
   "execution_count": 67,
   "metadata": {},
   "outputs": [
    {
     "data": {
      "text/plain": [
       "datetime.datetime(2018, 7, 7, 12, 30, 59)"
      ]
     },
     "execution_count": 67,
     "metadata": {},
     "output_type": "execute_result"
    }
   ],
   "source": [
    "dt - timedelta(seconds=14)"
   ]
  },
  {
   "cell_type": "code",
   "execution_count": 92,
   "metadata": {},
   "outputs": [
    {
     "data": {
      "text/plain": [
       "datetime.datetime(2018, 7, 7, 18, 5, 3, 594413)"
      ]
     },
     "execution_count": 92,
     "metadata": {},
     "output_type": "execute_result"
    },
    {
     "data": {
      "text/plain": [
       "datetime.datetime(2018, 7, 8, 4, 5, 3, 594413)"
      ]
     },
     "execution_count": 92,
     "metadata": {},
     "output_type": "execute_result"
    },
    {
     "data": {
      "text/plain": [
       "datetime.datetime(2018, 7, 17, 18, 5, 3, 594413)"
      ]
     },
     "execution_count": 92,
     "metadata": {},
     "output_type": "execute_result"
    },
    {
     "data": {
      "text/plain": [
       "datetime.datetime(2018, 7, 7, 18, 15, 3, 594413)"
      ]
     },
     "execution_count": 92,
     "metadata": {},
     "output_type": "execute_result"
    }
   ],
   "source": [
    "from datetime import timedelta\n",
    "from datetime import datetime\n",
    "now = datetime.now()\n",
    "now\n",
    "now + timedelta(hours=10)\n",
    "now + timedelta(days=10)\n",
    "now + timedelta(minutes=10)"
   ]
  },
  {
   "cell_type": "code",
   "execution_count": null,
   "metadata": {
    "collapsed": true
   },
   "outputs": [],
   "source": []
  },
  {
   "cell_type": "code",
   "execution_count": 110,
   "metadata": {},
   "outputs": [
    {
     "data": {
      "text/plain": [
       "datetime.datetime(2015, 5, 17, 16, 57, 3, 540997)"
      ]
     },
     "execution_count": 110,
     "metadata": {},
     "output_type": "execute_result"
    },
    {
     "data": {
      "text/plain": [
       "datetime.datetime(2018, 7, 10, 7, 34, 13, 91326)"
      ]
     },
     "execution_count": 110,
     "metadata": {},
     "output_type": "execute_result"
    },
    {
     "data": {
      "text/plain": [
       "datetime.datetime(2015, 5, 21, 4, 57, 3, 540997)"
      ]
     },
     "execution_count": 110,
     "metadata": {},
     "output_type": "execute_result"
    }
   ],
   "source": [
    "a = datetime(2015, 5, 18, 16, 57, 3, 540997)\n",
    "b = datetime(2015, 5, 19, 2, 57, 3, 540997)\n",
    "now  = datetime.now()\n",
    "datetime(2015, 5, 17, 16, 57, 3, 540997)\n",
    "now + timedelta(days=2, hours=12)\n",
    "datetime(2015, 5, 21, 4, 57, 3, 540997)"
   ]
  },
  {
   "cell_type": "code",
   "execution_count": null,
   "metadata": {
    "collapsed": true
   },
   "outputs": [],
   "source": [
    "datetime(2018, 08, 08)"
   ]
  },
  {
   "cell_type": "code",
   "execution_count": 73,
   "metadata": {},
   "outputs": [
    {
     "data": {
      "text/plain": [
       "9"
      ]
     },
     "execution_count": 73,
     "metadata": {},
     "output_type": "execute_result"
    }
   ],
   "source": [
    "(datetime.now() - datetime(2018, 7, 7)).days"
   ]
  },
  {
   "cell_type": "code",
   "execution_count": 120,
   "metadata": {},
   "outputs": [
    {
     "data": {
      "text/plain": [
       "70453"
      ]
     },
     "execution_count": 120,
     "metadata": {},
     "output_type": "execute_result"
    },
    {
     "data": {
      "text/plain": [
       "<attribute 'hour' of 'datetime.datetime' objects>"
      ]
     },
     "execution_count": 120,
     "metadata": {},
     "output_type": "execute_result"
    }
   ],
   "source": [
    "(now - a).seconds"
   ]
  },
  {
   "cell_type": "code",
   "execution_count": 117,
   "metadata": {},
   "outputs": [
    {
     "data": {
      "text/plain": [
       "0"
      ]
     },
     "execution_count": 117,
     "metadata": {},
     "output_type": "execute_result"
    }
   ],
   "source": [
    "a = datetime(2015, 5, 18)\n",
    "b = datetime(2015, 5, 19)\n",
    "(a - b).seconds"
   ]
  },
  {
   "cell_type": "code",
   "execution_count": null,
   "metadata": {
    "collapsed": true
   },
   "outputs": [],
   "source": [
    "total_seconds"
   ]
  },
  {
   "cell_type": "markdown",
   "metadata": {},
   "source": [
    "## time时间模块"
   ]
  },
  {
   "cell_type": "code",
   "execution_count": 74,
   "metadata": {
    "collapsed": true
   },
   "outputs": [],
   "source": [
    "import time"
   ]
  },
  {
   "cell_type": "code",
   "execution_count": 75,
   "metadata": {},
   "outputs": [
    {
     "name": "stdout",
     "output_type": "stream",
     "text": [
      "['_STRUCT_TM_ITEMS', '__doc__', '__loader__', '__name__', '__package__', '__spec__', 'altzone', 'asctime', 'clock', 'ctime', 'daylight', 'get_clock_info', 'gmtime', 'localtime', 'mktime', 'monotonic', 'perf_counter', 'process_time', 'sleep', 'strftime', 'strptime', 'struct_time', 'time', 'timezone', 'tzname']\n"
     ]
    }
   ],
   "source": [
    "print(dir(time))"
   ]
  },
  {
   "cell_type": "code",
   "execution_count": 77,
   "metadata": {},
   "outputs": [
    {
     "name": "stdout",
     "output_type": "stream",
     "text": [
      "0\n",
      "1\n",
      "2\n"
     ]
    }
   ],
   "source": [
    "for i in range(3):\n",
    "    print(i)\n",
    "    time.sleep(3)"
   ]
  },
  {
   "cell_type": "code",
   "execution_count": null,
   "metadata": {
    "collapsed": true
   },
   "outputs": [],
   "source": []
  },
  {
   "cell_type": "code",
   "execution_count": 2,
   "metadata": {},
   "outputs": [
    {
     "data": {
      "text/plain": [
       "'Wed Jul 11 19:23:42 2018'"
      ]
     },
     "execution_count": 2,
     "metadata": {},
     "output_type": "execute_result"
    }
   ],
   "source": [
    "time.asctime()"
   ]
  },
  {
   "cell_type": "code",
   "execution_count": 3,
   "metadata": {},
   "outputs": [
    {
     "data": {
      "text/plain": [
       "1531308235.65151"
      ]
     },
     "execution_count": 3,
     "metadata": {},
     "output_type": "execute_result"
    }
   ],
   "source": [
    "time.time()"
   ]
  },
  {
   "cell_type": "code",
   "execution_count": 4,
   "metadata": {},
   "outputs": [
    {
     "data": {
      "text/plain": [
       "time.struct_time(tm_year=2018, tm_mon=7, tm_mday=11, tm_hour=11, tm_min=24, tm_sec=8, tm_wday=2, tm_yday=192, tm_isdst=0)"
      ]
     },
     "execution_count": 4,
     "metadata": {},
     "output_type": "execute_result"
    }
   ],
   "source": [
    "time.gmtime()"
   ]
  },
  {
   "cell_type": "code",
   "execution_count": 5,
   "metadata": {},
   "outputs": [
    {
     "data": {
      "text/plain": [
       "time.struct_time(tm_year=2018, tm_mon=7, tm_mday=11, tm_hour=19, tm_min=24, tm_sec=18, tm_wday=2, tm_yday=192, tm_isdst=0)"
      ]
     },
     "execution_count": 5,
     "metadata": {},
     "output_type": "execute_result"
    }
   ],
   "source": [
    "time.localtime()"
   ]
  },
  {
   "cell_type": "code",
   "execution_count": 6,
   "metadata": {},
   "outputs": [
    {
     "data": {
      "text/plain": [
       "'2018-07-11'"
      ]
     },
     "execution_count": 6,
     "metadata": {},
     "output_type": "execute_result"
    }
   ],
   "source": [
    "time.strftime('%Y-%m-%d')"
   ]
  },
  {
   "cell_type": "code",
   "execution_count": 7,
   "metadata": {},
   "outputs": [
    {
     "data": {
      "text/plain": [
       "'2018-07-11'"
      ]
     },
     "execution_count": 7,
     "metadata": {},
     "output_type": "execute_result"
    }
   ],
   "source": [
    "time.strftime('%Y-%m-%d',time.localtime())"
   ]
  },
  {
   "cell_type": "code",
   "execution_count": 9,
   "metadata": {},
   "outputs": [
    {
     "data": {
      "text/plain": [
       "time.struct_time(tm_year=2016, tm_mon=5, tm_mday=22, tm_hour=0, tm_min=0, tm_sec=0, tm_wday=6, tm_yday=143, tm_isdst=-1)"
      ]
     },
     "execution_count": 9,
     "metadata": {},
     "output_type": "execute_result"
    }
   ],
   "source": [
    "string_struct = time.strptime(\"2016/05/22\",\"%Y/%m/%d\")\n",
    "string_struct"
   ]
  },
  {
   "cell_type": "code",
   "execution_count": 7,
   "metadata": {
    "collapsed": true
   },
   "outputs": [],
   "source": [
    "import calendar"
   ]
  },
  {
   "cell_type": "code",
   "execution_count": 9,
   "metadata": {},
   "outputs": [
    {
     "name": "stdout",
     "output_type": "stream",
     "text": [
      "['Calendar', 'EPOCH', 'FRIDAY', 'February', 'HTMLCalendar', 'IllegalMonthError', 'IllegalWeekdayError', 'January', 'LocaleHTMLCalendar', 'LocaleTextCalendar', 'MONDAY', 'SATURDAY', 'SUNDAY', 'THURSDAY', 'TUESDAY', 'TextCalendar', 'WEDNESDAY', '_EPOCH_ORD', '__all__', '__builtins__', '__cached__', '__doc__', '__file__', '__loader__', '__name__', '__package__', '__spec__', '_colwidth', '_locale', '_localized_day', '_localized_month', '_spacing', 'c', 'calendar', 'datetime', 'day_abbr', 'day_name', 'different_locale', 'error', 'firstweekday', 'format', 'formatstring', 'isleap', 'leapdays', 'main', 'mdays', 'month', 'month_abbr', 'month_name', 'monthcalendar', 'monthrange', 'prcal', 'prmonth', 'prweek', 'repeat', 'setfirstweekday', 'sys', 'timegm', 'week', 'weekday', 'weekheader']\n"
     ]
    }
   ],
   "source": [
    "print(dir(calendar))"
   ]
  },
  {
   "cell_type": "code",
   "execution_count": 8,
   "metadata": {},
   "outputs": [
    {
     "name": "stdout",
     "output_type": "stream",
     "text": [
      "                                  2017\n",
      "\n",
      "      January                   February                   March\n",
      "Mo Tu We Th Fr Sa Su      Mo Tu We Th Fr Sa Su      Mo Tu We Th Fr Sa Su\n",
      "                   1             1  2  3  4  5             1  2  3  4  5\n",
      " 2  3  4  5  6  7  8       6  7  8  9 10 11 12       6  7  8  9 10 11 12\n",
      " 9 10 11 12 13 14 15      13 14 15 16 17 18 19      13 14 15 16 17 18 19\n",
      "16 17 18 19 20 21 22      20 21 22 23 24 25 26      20 21 22 23 24 25 26\n",
      "23 24 25 26 27 28 29      27 28                     27 28 29 30 31\n",
      "30 31\n",
      "\n",
      "       April                      May                       June\n",
      "Mo Tu We Th Fr Sa Su      Mo Tu We Th Fr Sa Su      Mo Tu We Th Fr Sa Su\n",
      "                1  2       1  2  3  4  5  6  7                1  2  3  4\n",
      " 3  4  5  6  7  8  9       8  9 10 11 12 13 14       5  6  7  8  9 10 11\n",
      "10 11 12 13 14 15 16      15 16 17 18 19 20 21      12 13 14 15 16 17 18\n",
      "17 18 19 20 21 22 23      22 23 24 25 26 27 28      19 20 21 22 23 24 25\n",
      "24 25 26 27 28 29 30      29 30 31                  26 27 28 29 30\n",
      "\n",
      "        July                     August                  September\n",
      "Mo Tu We Th Fr Sa Su      Mo Tu We Th Fr Sa Su      Mo Tu We Th Fr Sa Su\n",
      "                1  2          1  2  3  4  5  6                   1  2  3\n",
      " 3  4  5  6  7  8  9       7  8  9 10 11 12 13       4  5  6  7  8  9 10\n",
      "10 11 12 13 14 15 16      14 15 16 17 18 19 20      11 12 13 14 15 16 17\n",
      "17 18 19 20 21 22 23      21 22 23 24 25 26 27      18 19 20 21 22 23 24\n",
      "24 25 26 27 28 29 30      28 29 30 31               25 26 27 28 29 30\n",
      "31\n",
      "\n",
      "      October                   November                  December\n",
      "Mo Tu We Th Fr Sa Su      Mo Tu We Th Fr Sa Su      Mo Tu We Th Fr Sa Su\n",
      "                   1             1  2  3  4  5                   1  2  3\n",
      " 2  3  4  5  6  7  8       6  7  8  9 10 11 12       4  5  6  7  8  9 10\n",
      " 9 10 11 12 13 14 15      13 14 15 16 17 18 19      11 12 13 14 15 16 17\n",
      "16 17 18 19 20 21 22      20 21 22 23 24 25 26      18 19 20 21 22 23 24\n",
      "23 24 25 26 27 28 29      27 28 29 30               25 26 27 28 29 30 31\n",
      "30 31\n",
      "\n"
     ]
    }
   ],
   "source": [
    "print(calendar.calendar(theyear= 2017))"
   ]
  },
  {
   "cell_type": "code",
   "execution_count": 10,
   "metadata": {},
   "outputs": [
    {
     "name": "stdout",
     "output_type": "stream",
     "text": [
      "     July 2018\n",
      "Mo Tu We Th Fr Sa Su\n",
      "                   1\n",
      " 2  3  4  5  6  7  8\n",
      " 9 10 11 12 13 14 15\n",
      "16 17 18 19 20 21 22\n",
      "23 24 25 26 27 28 29\n",
      "30 31\n",
      "\n"
     ]
    }
   ],
   "source": [
    "print(calendar.month(2018,7))"
   ]
  },
  {
   "cell_type": "markdown",
   "metadata": {},
   "source": [
    "## random模块"
   ]
  },
  {
   "cell_type": "code",
   "execution_count": 78,
   "metadata": {
    "collapsed": true
   },
   "outputs": [],
   "source": [
    "import random"
   ]
  },
  {
   "cell_type": "code",
   "execution_count": 80,
   "metadata": {},
   "outputs": [
    {
     "name": "stdout",
     "output_type": "stream",
     "text": [
      "0.9471177355136994\n"
     ]
    }
   ],
   "source": [
    "print(random.random())          # 返回一个随机小数'0.4800545746046827'"
   ]
  },
  {
   "cell_type": "code",
   "execution_count": 87,
   "metadata": {},
   "outputs": [
    {
     "name": "stdout",
     "output_type": "stream",
     "text": [
      "2\n"
     ]
    }
   ],
   "source": [
    "random.seed(1)\n",
    "print(random.randint(1,5))          # 返回（1-5）随机整型数据"
   ]
  },
  {
   "cell_type": "code",
   "execution_count": 88,
   "metadata": {},
   "outputs": [
    {
     "name": "stdout",
     "output_type": "stream",
     "text": [
      "2\n"
     ]
    }
   ],
   "source": [
    "print(random.randrange(1,10))       # 返回（1-10）随机数据"
   ]
  },
  {
   "cell_type": "markdown",
   "metadata": {},
   "source": [
    "## 小练习: 生成随机验证码"
   ]
  },
  {
   "cell_type": "code",
   "execution_count": 102,
   "metadata": {},
   "outputs": [
    {
     "data": {
      "text/plain": [
       "3"
      ]
     },
     "execution_count": 102,
     "metadata": {},
     "output_type": "execute_result"
    }
   ],
   "source": []
  },
  {
   "cell_type": "code",
   "execution_count": null,
   "metadata": {
    "collapsed": true
   },
   "outputs": [],
   "source": []
  },
  {
   "cell_type": "code",
   "execution_count": null,
   "metadata": {
    "collapsed": true
   },
   "outputs": [],
   "source": []
  },
  {
   "cell_type": "code",
   "execution_count": null,
   "metadata": {
    "collapsed": true
   },
   "outputs": [],
   "source": []
  },
  {
   "cell_type": "markdown",
   "metadata": {},
   "source": [
    "# I/O操作"
   ]
  },
  {
   "cell_type": "markdown",
   "metadata": {
    "collapsed": true
   },
   "source": [
    "## 打开文件"
   ]
  },
  {
   "cell_type": "markdown",
   "metadata": {},
   "source": [
    "在python，使用open函数，可以打开一个已经存在的文件，或者创建一个新文件\n",
    "```python\n",
    "open(文件名，访问模式)\n",
    "```"
   ]
  },
  {
   "cell_type": "code",
   "execution_count": 18,
   "metadata": {
    "collapsed": true
   },
   "outputs": [],
   "source": [
    "f = open('test.txt', 'a')"
   ]
  },
  {
   "cell_type": "code",
   "execution_count": 19,
   "metadata": {},
   "outputs": [
    {
     "data": {
      "text/plain": [
       "1063"
      ]
     },
     "execution_count": 19,
     "metadata": {},
     "output_type": "execute_result"
    }
   ],
   "source": [
    "f.write('''如果我死了，那些争夺我遗产的人会很兴奋：什么？他死了，他真的死了？他真的死了！哈哈！他死了！他真的死了！我想想，这样我就可以买个车，换个大点的房子，还能吃点不舍得吃的，去些平时消费不起的场所，早点死多好，何必等到现在那，人终有一死。不如成全我了，毕竟他这么无私，祝他上天堂哈哈！我谢谢他。不，我该恨他，怎么不早点死？愿他下地狱！我只是为了自己过得好一点，我每月赚几万块多吗？油价这么贵，海鲜这么贵，还得平时喝个酒旅个游，我还会有孩子，哪里不是开销的地方，我活的这么悲惨只是为了让自己过得好一点，我没有错，谁不想让自己过得好一点！他会尊重我的自私？——恩，他一定会的。\n",
    "\n",
    "　　如果我死了，那些垂涎于我爱人的会很激动：妈的，终于死了！这王八蛋！盼星星盼月亮终于死了。早点死啊，他那老婆可馋死我了，那身材，那大白腿，想想都过瘾！这下子我就不用害怕了，妈的，他活着我也不怕！这下子我就不用偷偷摸摸的了，妈的，他活着我也不怕！这下子我就不用跟他称兄道弟了，妈的，他活着我也不想跟他称兄道弟！占着茅坑不拉屎，凭什么那么漂亮的女人要跟他受罪？他那活的还算个人了？哪里比得上我，能让这女人吃香的喝辣的，马桶都是镀金边的！为什么不是金边的？金边的得多少钱，有那个钱找什么样的没有，我还用得上盼着他死？他这一死我也算做点好事，不然这么年轻守了寡还得改嫁，万一改嫁的是奔着她那张脸那个身材的人那。我这算是做点好事，给自己积德了，他应该谢谢我的！为什么我这么无私奉献那——妈的，老子一直就这么无私啊！\n",
    "\n",
    "　　如果我死了，那些我能帮助的人会很伤心：他怎么能死那？他怎么能死那！他死了谁帮我工作，他死了谁帮我做那些别人不愿做的事？他不能死他不能死！算了，死了就死了，我抓紧找下一个人吧。唉！他死了谁体现我的社会价值啊，他死了我怎么奔赴我的需求我的追求！他这就死了，我很伤心。曾经有那么个人可以帮我买东西的时候省钱，可以帮我去打架，可以难过的时候陪我喝酒，开导我听我倾诉，他怎么可以死！我恨他，我是不是该恨他？没错，我应该恨他，不说一声就死了。我恨他——这么不负责的人我恨他！\n",
    "\n",
    "　　如果我死了，那些朋友圈的高大上会埋怨我：他死了？那谁给我评论，谁给我点赞！我那些修过的照片，丰盛又廉价的美食小视频，盗的风景艺术图片谁给我评论，谁来展现我的品位我的生活。他怎么可以死，那谁来当我的仰慕者，谁来做围观群众，谁来发出一声哇塞！死了！算了，死了就死了吧。别问为什么——我这么高大上的人在乎个市井小民干嘛。\n",
    "\n",
    "　　 若是有来生\n",
    "\n",
    "　　若是有来生，我要做一个聋子。\n",
    "''')"
   ]
  },
  {
   "cell_type": "code",
   "execution_count": 20,
   "metadata": {
    "collapsed": true
   },
   "outputs": [],
   "source": [
    "f.close()"
   ]
  },
  {
   "cell_type": "code",
   "execution_count": 30,
   "metadata": {
    "collapsed": true
   },
   "outputs": [],
   "source": [
    "f = open('test.txt', 'r')"
   ]
  },
  {
   "cell_type": "code",
   "execution_count": null,
   "metadata": {
    "collapsed": true
   },
   "outputs": [],
   "source": []
  },
  {
   "cell_type": "code",
   "execution_count": 31,
   "metadata": {
    "collapsed": true
   },
   "outputs": [],
   "source": [
    "data = f.read()\n",
    "f.close()"
   ]
  },
  {
   "cell_type": "code",
   "execution_count": 32,
   "metadata": {
    "collapsed": true
   },
   "outputs": [
    {
     "name": "stdout",
     "output_type": "stream",
     "text": [
      "很久都不曾写过文章了，上一篇文章还是四个月之前的。以此去命题，并非有什么轻生的念头，只是有感而发，勿念。其实我很想做个自私的人，因为这会让你吃尽苦头又吃足了甜头。而你却依然活的天真活的开心——序。\n",
      "\n",
      "　　 如果我死了\n",
      "\n",
      "　　如果我死了，那些愧对我的人会很开心：终于不用还钱了，哎呀，不然真不知道怎么办那，不敢见他，吓得我朋友圈都不敢发了！不对，我这样的人怕他干嘛？反正也不能把我怎么样。我每天活的多潇洒，灯红酒绿左拥右抱的。怕他干嘛，我是没错的，我怎么能委屈自己那？我要活的开心就不能在乎那么多，人这一辈子就是有舍有得，凭自己本事借的钱为什么要还？——不用还。\n",
      "\n",
      "　　如果我死了，那些我曾追求的人会很开心：每天烦我，我怎么知道喜不喜欢他？可能喜欢吧，可能不喜欢？无所谓了反正他都死了。哎呀，他一死去，就没人对我嘘寒问暖请我吃饭了，没人每天担心我了！算了，毕竟我这么漂亮，比不上明星也有自己的亮点，还会有下一个傻子不顾一切追求我的。可下一个人什么时候出现那？这么想来我还是亏本的啊，我怎么能做亏本的买卖——不能！他要是不死去多好，还能多一个追求者！我不喜欢他，我只是喜欢他追我无条件对我好，我这么做是有道理的，哪个人是不渴望被人爱的孩子那？我还是个孩子啊，我渴望人爱我追求我不图回报的对我好，我接受他的好有错吗？我是没错的？——恩。\n",
      "\n",
      "　　如果我死了，那些高谈阔论肆无忌惮吹牛逼的人会心头一震：他怎么死了？他不能死啊，他一死没人听我吹嘘了。我那些“丰功伟绩”辉煌历史，我那些绝地反击的故事跟谁炫耀啊？我曾经多么励志，我曾经多么孝顺，我曾经多么受人尊敬我曾经多么爱家人爱工作啊！他不能死，他死了谁听我吹嘘？不行，我还得再找个人！他死了，唉，他死了我英雄无用武之地，他死了我怎么展现给大家一个“君子好汉”的形象啊？不行，多亏他死了！他不死真求到我怎么办，那我是不是要兑现我说的力所能及尽力而为？我只是随口一说啊，虽然我这么完美，可他不该当真的啊——不该当真的。\n",
      "如果我死了，那些争夺我遗产的人会很兴奋：什么？他死了，他真的死了？他真的死了！哈哈！他死了！他真的死了！我想想，这样我就可以买个车，换个大点的房子，还能吃点不舍得吃的，去些平时消费不起的场所，早点死多好，何必等到现在那，人终有一死。不如成全我了，毕竟他这么无私，祝他上天堂哈哈！我谢谢他。不，我该恨他，怎么不早点死？愿他下地狱！我只是为了自己过得好一点，我每月赚几万块多吗？油价这么贵，海鲜这么贵，还得平时喝个酒旅个游，我还会有孩子，哪里不是开销的地方，我活的这么悲惨只是为了让自己过得好一点，我没有错，谁不想让自己过得好一点！他会尊重我的自私？——恩，他一定会的。\n",
      "\n",
      "　　如果我死了，那些垂涎于我爱人的会很激动：妈的，终于死了！这王八蛋！盼星星盼月亮终于死了。早点死啊，他那老婆可馋死我了，那身材，那大白腿，想想都过瘾！这下子我就不用害怕了，妈的，他活着我也不怕！这下子我就不用偷偷摸摸的了，妈的，他活着我也不怕！这下子我就不用跟他称兄道弟了，妈的，他活着我也不想跟他称兄道弟！占着茅坑不拉屎，凭什么那么漂亮的女人要跟他受罪？他那活的还算个人了？哪里比得上我，能让这女人吃香的喝辣的，马桶都是镀金边的！为什么不是金边的？金边的得多少钱，有那个钱找什么样的没有，我还用得上盼着他死？他这一死我也算做点好事，不然这么年轻守了寡还得改嫁，万一改嫁的是奔着她那张脸那个身材的人那。我这算是做点好事，给自己积德了，他应该谢谢我的！为什么我这么无私奉献那——妈的，老子一直就这么无私啊！\n",
      "\n",
      "　　如果我死了，那些我能帮助的人会很伤心：他怎么能死那？他怎么能死那！他死了谁帮我工作，他死了谁帮我做那些别人不愿做的事？他不能死他不能死！算了，死了就死了，我抓紧找下一个人吧。唉！他死了谁体现我的社会价值啊，他死了我怎么奔赴我的需求我的追求！他这就死了，我很伤心。曾经有那么个人可以帮我买东西的时候省钱，可以帮我去打架，可以难过的时候陪我喝酒，开导我听我倾诉，他怎么可以死！我恨他，我是不是该恨他？没错，我应该恨他，不说一声就死了。我恨他——这么不负责的人我恨他！\n",
      "\n",
      "　　如果我死了，那些朋友圈的高大上会埋怨我：他死了？那谁给我评论，谁给我点赞！我那些修过的照片，丰盛又廉价的美食小视频，盗的风景艺术图片谁给我评论，谁来展现我的品位我的生活。他怎么可以死，那谁来当我的仰慕者，谁来做围观群众，谁来发出一声哇塞！死了！算了，死了就死了吧。别问为什么——我这么高大上的人在乎个市井小民干嘛。\n",
      "\n",
      "　　 若是有来生\n",
      "\n",
      "　　若是有来生，我要做一个聋子。\n",
      "\n"
     ]
    }
   ],
   "source": [
    "print(data)"
   ]
  },
  {
   "cell_type": "code",
   "execution_count": 34,
   "metadata": {
    "collapsed": true
   },
   "outputs": [],
   "source": [
    "f.close()"
   ]
  },
  {
   "cell_type": "markdown",
   "metadata": {},
   "source": [
    "1. 以写入方式打开文件\n",
    "2. 写入一些内容\n",
    "3. 重新打开文件, 追加方式\n",
    "4. 追加一些内容\n",
    "5. 只读方式打开文件, 读取文件中的内容"
   ]
  },
  {
   "cell_type": "markdown",
   "metadata": {},
   "source": [
    "| 访问模式 | 说明                                                         |\n",
    "| -------- | ------------------------------------------------------------ |\n",
    "| r        | 以只读方式打开文件。文件的指针将会放在文件的开头。这是默认模式。 |\n",
    "| w        | 打开一个文件只用于写入。如果该文件已存在则将其覆盖。如果该文件不存在，创建新文件。 |\n",
    "| a        | 打开一个文件用于追加。如果该文件已存在，文件指针将会放在文件的结尾。也就是说，新的内容将会被写入到已有内容之后。如果该文件不存在，创建新文件进行写入。 |\n",
    "| rb       | 以二进制格式打开一个文件用于只读。文件指针将会放在文件的开头。这是默认模式。 |\n",
    "| wb       | 以二进制格式打开一个文件只用于写入。如果该文件已存在则将其覆盖。如果该文件不存在，创建新文件。 |\n",
    "| ab       | 以二进制格式打开一个文件用于追加。如果该文件已存在，文件指针将会放在文件的结尾。也就是说，新的内容将会被写入到已有内容之后。如果该文件不存在，创建新文件进行写入。 |\n",
    "| r+       | 打开一个文件用于读写。文件指针将会放在文件的开头。           |\n",
    "| w+       | 打开一个文件用于读写。如果该文件已存在则将其覆盖。如果该文件不存在，创建新文件。 |\n",
    "| a+       | 打开一个文件用于读写。如果该文件已存在，文件指针将会放在文件的结尾。文件打开时会是追加模式。如果该文件不存在，创建新文件用于读写。 |\n",
    "| rb+      | 以二进制格式打开一个文件用于读写。文件指针将会放在文件的开头。 |\n",
    "| wb+      | 以二进制格式打开一个文件用于读写。如果该文件已存在则将其覆盖。如果该文件不存在，创建新文件。 |\n",
    "| ab+      | 以二进制格式打开一个文件用于追加。如果该文件已存在，文件指针将会放在文件的结尾。如果该文件不存在，创建新文件用于读写。 |"
   ]
  },
  {
   "cell_type": "markdown",
   "metadata": {},
   "source": [
    "## 关闭文件"
   ]
  },
  {
   "cell_type": "code",
   "execution_count": 2,
   "metadata": {
    "collapsed": true
   },
   "outputs": [],
   "source": [
    "f.close()\n",
    "# 这是会在内存中释放文件, 文件才可以删除"
   ]
  },
  {
   "cell_type": "markdown",
   "metadata": {},
   "source": [
    "## 文件的读写"
   ]
  },
  {
   "cell_type": "code",
   "execution_count": 4,
   "metadata": {
    "collapsed": true
   },
   "outputs": [],
   "source": [
    "# 使用write()可以完成向文件写入数据\n",
    "f = open('test.txt', 'w')\n",
    "f.write('hello world, i am here!')\n",
    "f.close()\n",
    "\n",
    "# 注意： 如果文件不存在那么创建，如果存在那么就先清空，然后写入数据"
   ]
  },
  {
   "cell_type": "markdown",
   "metadata": {},
   "source": [
    "## 读数据(read)\n",
    "\n",
    "使用read(num)可以从文件中读取数据，num表示要从文件中读取的数据的长度（单位是字节），如果没有传入num，那么就表示读取文件中所有的数据"
   ]
  },
  {
   "cell_type": "code",
   "execution_count": 5,
   "metadata": {},
   "outputs": [
    {
     "name": "stdout",
     "output_type": "stream",
     "text": [
      "hello\n",
      "------------------------------\n",
      " world, i am here!\n"
     ]
    }
   ],
   "source": [
    "f = open('test.txt', 'r')\n",
    "content = f.read(5)\n",
    "print(content)\n",
    "print(\"-\"*30)\n",
    "content = f.read()\n",
    "print(content)\n",
    "f.close()"
   ]
  },
  {
   "cell_type": "markdown",
   "metadata": {},
   "source": [
    "注意：\n",
    "\n",
    "如果open是打开一个文件，那么可以不用写打开的模式，即只写 open('test.txt')\n",
    "\n",
    "如果使用读了多次，那么后面读取的数据是从上次读完后的位置开始的"
   ]
  },
  {
   "cell_type": "code",
   "execution_count": 6,
   "metadata": {},
   "outputs": [
    {
     "name": "stdout",
     "output_type": "stream",
     "text": [
      "hel\n"
     ]
    }
   ],
   "source": [
    "f = open('test.txt', 'r')\n",
    "content = f.read(3)\n",
    "print(content)"
   ]
  },
  {
   "cell_type": "code",
   "execution_count": 15,
   "metadata": {},
   "outputs": [
    {
     "data": {
      "text/plain": [
       "''"
      ]
     },
     "execution_count": 15,
     "metadata": {},
     "output_type": "execute_result"
    }
   ],
   "source": [
    "f.read(3)"
   ]
  },
  {
   "cell_type": "code",
   "execution_count": 35,
   "metadata": {},
   "outputs": [
    {
     "data": {
      "text/plain": [
       "['很久都不曾写过文章了，上一篇文章还是四个月之前的。以此去命题，并非有什么轻生的念头，只是有感而发，勿念。其实我很想做个自私的人，因为这会让你吃尽苦头又吃足了甜头。而你却依然活的天真活的开心——序。\\n',\n",
       " '\\n',\n",
       " '\\u3000\\u3000 如果我死了\\n',\n",
       " '\\n',\n",
       " '\\u3000\\u3000如果我死了，那些愧对我的人会很开心：终于不用还钱了，哎呀，不然真不知道怎么办那，不敢见他，吓得我朋友圈都不敢发了！不对，我这样的人怕他干嘛？反正也不能把我怎么样。我每天活的多潇洒，灯红酒绿左拥右抱的。怕他干嘛，我是没错的，我怎么能委屈自己那？我要活的开心就不能在乎那么多，人这一辈子就是有舍有得，凭自己本事借的钱为什么要还？——不用还。\\n',\n",
       " '\\n',\n",
       " '\\u3000\\u3000如果我死了，那些我曾追求的人会很开心：每天烦我，我怎么知道喜不喜欢他？可能喜欢吧，可能不喜欢？无所谓了反正他都死了。哎呀，他一死去，就没人对我嘘寒问暖请我吃饭了，没人每天担心我了！算了，毕竟我这么漂亮，比不上明星也有自己的亮点，还会有下一个傻子不顾一切追求我的。可下一个人什么时候出现那？这么想来我还是亏本的啊，我怎么能做亏本的买卖——不能！他要是不死去多好，还能多一个追求者！我不喜欢他，我只是喜欢他追我无条件对我好，我这么做是有道理的，哪个人是不渴望被人爱的孩子那？我还是个孩子啊，我渴望人爱我追求我不图回报的对我好，我接受他的好有错吗？我是没错的？——恩。\\n',\n",
       " '\\n',\n",
       " '\\u3000\\u3000如果我死了，那些高谈阔论肆无忌惮吹牛逼的人会心头一震：他怎么死了？他不能死啊，他一死没人听我吹嘘了。我那些“丰功伟绩”辉煌历史，我那些绝地反击的故事跟谁炫耀啊？我曾经多么励志，我曾经多么孝顺，我曾经多么受人尊敬我曾经多么爱家人爱工作啊！他不能死，他死了谁听我吹嘘？不行，我还得再找个人！他死了，唉，他死了我英雄无用武之地，他死了我怎么展现给大家一个“君子好汉”的形象啊？不行，多亏他死了！他不死真求到我怎么办，那我是不是要兑现我说的力所能及尽力而为？我只是随口一说啊，虽然我这么完美，可他不该当真的啊——不该当真的。\\n',\n",
       " '如果我死了，那些争夺我遗产的人会很兴奋：什么？他死了，他真的死了？他真的死了！哈哈！他死了！他真的死了！我想想，这样我就可以买个车，换个大点的房子，还能吃点不舍得吃的，去些平时消费不起的场所，早点死多好，何必等到现在那，人终有一死。不如成全我了，毕竟他这么无私，祝他上天堂哈哈！我谢谢他。不，我该恨他，怎么不早点死？愿他下地狱！我只是为了自己过得好一点，我每月赚几万块多吗？油价这么贵，海鲜这么贵，还得平时喝个酒旅个游，我还会有孩子，哪里不是开销的地方，我活的这么悲惨只是为了让自己过得好一点，我没有错，谁不想让自己过得好一点！他会尊重我的自私？——恩，他一定会的。\\n',\n",
       " '\\n',\n",
       " '\\u3000\\u3000如果我死了，那些垂涎于我爱人的会很激动：妈的，终于死了！这王八蛋！盼星星盼月亮终于死了。早点死啊，他那老婆可馋死我了，那身材，那大白腿，想想都过瘾！这下子我就不用害怕了，妈的，他活着我也不怕！这下子我就不用偷偷摸摸的了，妈的，他活着我也不怕！这下子我就不用跟他称兄道弟了，妈的，他活着我也不想跟他称兄道弟！占着茅坑不拉屎，凭什么那么漂亮的女人要跟他受罪？他那活的还算个人了？哪里比得上我，能让这女人吃香的喝辣的，马桶都是镀金边的！为什么不是金边的？金边的得多少钱，有那个钱找什么样的没有，我还用得上盼着他死？他这一死我也算做点好事，不然这么年轻守了寡还得改嫁，万一改嫁的是奔着她那张脸那个身材的人那。我这算是做点好事，给自己积德了，他应该谢谢我的！为什么我这么无私奉献那——妈的，老子一直就这么无私啊！\\n',\n",
       " '\\n',\n",
       " '\\u3000\\u3000如果我死了，那些我能帮助的人会很伤心：他怎么能死那？他怎么能死那！他死了谁帮我工作，他死了谁帮我做那些别人不愿做的事？他不能死他不能死！算了，死了就死了，我抓紧找下一个人吧。唉！他死了谁体现我的社会价值啊，他死了我怎么奔赴我的需求我的追求！他这就死了，我很伤心。曾经有那么个人可以帮我买东西的时候省钱，可以帮我去打架，可以难过的时候陪我喝酒，开导我听我倾诉，他怎么可以死！我恨他，我是不是该恨他？没错，我应该恨他，不说一声就死了。我恨他——这么不负责的人我恨他！\\n',\n",
       " '\\n',\n",
       " '\\u3000\\u3000如果我死了，那些朋友圈的高大上会埋怨我：他死了？那谁给我评论，谁给我点赞！我那些修过的照片，丰盛又廉价的美食小视频，盗的风景艺术图片谁给我评论，谁来展现我的品位我的生活。他怎么可以死，那谁来当我的仰慕者，谁来做围观群众，谁来发出一声哇塞！死了！算了，死了就死了吧。别问为什么——我这么高大上的人在乎个市井小民干嘛。\\n',\n",
       " '\\n',\n",
       " '\\u3000\\u3000 若是有来生\\n',\n",
       " '\\n',\n",
       " '\\u3000\\u3000若是有来生，我要做一个聋子。\\n']"
      ]
     },
     "execution_count": 35,
     "metadata": {},
     "output_type": "execute_result"
    }
   ],
   "source": [
    "f= open('test.txt', 'r')\n",
    "data = f.readlines()\n",
    "data"
   ]
  },
  {
   "cell_type": "code",
   "execution_count": 36,
   "metadata": {
    "collapsed": true
   },
   "outputs": [],
   "source": [
    "f.close()"
   ]
  },
  {
   "cell_type": "code",
   "execution_count": 37,
   "metadata": {
    "collapsed": true
   },
   "outputs": [],
   "source": [
    "f= open(\"test.txt\", 'r')"
   ]
  },
  {
   "cell_type": "code",
   "execution_count": 38,
   "metadata": {
    "collapsed": true
   },
   "outputs": [],
   "source": [
    "data = f.readlines()"
   ]
  },
  {
   "cell_type": "code",
   "execution_count": 48,
   "metadata": {},
   "outputs": [
    {
     "name": "stdout",
     "output_type": "stream",
     "text": [
      "['很久都不曾写过文章了', '上一篇文章还是四个月之前的。以此去命题', '并非有什么轻生的念头', '只是有感而发', '勿念。其实我很想做个自私的人', '因为这会让你吃尽苦头又吃足了甜头。而你却依然活的天真活的开心——序。\\n']\n",
      "['\\n']\n",
      "['\\u3000\\u3000 如果我死了\\n']\n",
      "['\\n']\n",
      "['\\u3000\\u3000如果我死了', '那些愧对我的人会很开心：终于不用还钱了', '哎呀', '不然真不知道怎么办那', '不敢见他', '吓得我朋友圈都不敢发了！不对', '我这样的人怕他干嘛？反正也不能把我怎么样。我每天活的多潇洒', '灯红酒绿左拥右抱的。怕他干嘛', '我是没错的', '我怎么能委屈自己那？我要活的开心就不能在乎那么多', '人这一辈子就是有舍有得', '凭自己本事借的钱为什么要还？——不用还。\\n']\n",
      "['\\n']\n",
      "['\\u3000\\u3000如果我死了', '那些我曾追求的人会很开心：每天烦我', '我怎么知道喜不喜欢他？可能喜欢吧', '可能不喜欢？无所谓了反正他都死了。哎呀', '他一死去', '就没人对我嘘寒问暖请我吃饭了', '没人每天担心我了！算了', '毕竟我这么漂亮', '比不上明星也有自己的亮点', '还会有下一个傻子不顾一切追求我的。可下一个人什么时候出现那？这么想来我还是亏本的啊', '我怎么能做亏本的买卖——不能！他要是不死去多好', '还能多一个追求者！我不喜欢他', '我只是喜欢他追我无条件对我好', '我这么做是有道理的', '哪个人是不渴望被人爱的孩子那？我还是个孩子啊', '我渴望人爱我追求我不图回报的对我好', '我接受他的好有错吗？我是没错的？——恩。\\n']\n",
      "['\\n']\n",
      "['\\u3000\\u3000如果我死了', '那些高谈阔论肆无忌惮吹牛逼的人会心头一震：他怎么死了？他不能死啊', '他一死没人听我吹嘘了。我那些“丰功伟绩”辉煌历史', '我那些绝地反击的故事跟谁炫耀啊？我曾经多么励志', '我曾经多么孝顺', '我曾经多么受人尊敬我曾经多么爱家人爱工作啊！他不能死', '他死了谁听我吹嘘？不行', '我还得再找个人！他死了', '唉', '他死了我英雄无用武之地', '他死了我怎么展现给大家一个“君子好汉”的形象啊？不行', '多亏他死了！他不死真求到我怎么办', '那我是不是要兑现我说的力所能及尽力而为？我只是随口一说啊', '虽然我这么完美', '可他不该当真的啊——不该当真的。\\n']\n",
      "['如果我死了', '那些争夺我遗产的人会很兴奋：什么？他死了', '他真的死了？他真的死了！哈哈！他死了！他真的死了！我想想', '这样我就可以买个车', '换个大点的房子', '还能吃点不舍得吃的', '去些平时消费不起的场所', '早点死多好', '何必等到现在那', '人终有一死。不如成全我了', '毕竟他这么无私', '祝他上天堂哈哈！我谢谢他。不', '我该恨他', '怎么不早点死？愿他下地狱！我只是为了自己过得好一点', '我每月赚几万块多吗？油价这么贵', '海鲜这么贵', '还得平时喝个酒旅个游', '我还会有孩子', '哪里不是开销的地方', '我活的这么悲惨只是为了让自己过得好一点', '我没有错', '谁不想让自己过得好一点！他会尊重我的自私？——恩', '他一定会的。\\n']\n",
      "['\\n']\n",
      "['\\u3000\\u3000如果我死了', '那些垂涎于我爱人的会很激动：妈的', '终于死了！这王八蛋！盼星星盼月亮终于死了。早点死啊', '他那老婆可馋死我了', '那身材', '那大白腿', '想想都过瘾！这下子我就不用害怕了', '妈的', '他活着我也不怕！这下子我就不用偷偷摸摸的了', '妈的', '他活着我也不怕！这下子我就不用跟他称兄道弟了', '妈的', '他活着我也不想跟他称兄道弟！占着茅坑不拉屎', '凭什么那么漂亮的女人要跟他受罪？他那活的还算个人了？哪里比得上我', '能让这女人吃香的喝辣的', '马桶都是镀金边的！为什么不是金边的？金边的得多少钱', '有那个钱找什么样的没有', '我还用得上盼着他死？他这一死我也算做点好事', '不然这么年轻守了寡还得改嫁', '万一改嫁的是奔着她那张脸那个身材的人那。我这算是做点好事', '给自己积德了', '他应该谢谢我的！为什么我这么无私奉献那——妈的', '老子一直就这么无私啊！\\n']\n",
      "['\\n']\n",
      "['\\u3000\\u3000如果我死了', '那些我能帮助的人会很伤心：他怎么能死那？他怎么能死那！他死了谁帮我工作', '他死了谁帮我做那些别人不愿做的事？他不能死他不能死！算了', '死了就死了', '我抓紧找下一个人吧。唉！他死了谁体现我的社会价值啊', '他死了我怎么奔赴我的需求我的追求！他这就死了', '我很伤心。曾经有那么个人可以帮我买东西的时候省钱', '可以帮我去打架', '可以难过的时候陪我喝酒', '开导我听我倾诉', '他怎么可以死！我恨他', '我是不是该恨他？没错', '我应该恨他', '不说一声就死了。我恨他——这么不负责的人我恨他！\\n']\n",
      "['\\n']\n",
      "['\\u3000\\u3000如果我死了', '那些朋友圈的高大上会埋怨我：他死了？那谁给我评论', '谁给我点赞！我那些修过的照片', '丰盛又廉价的美食小视频', '盗的风景艺术图片谁给我评论', '谁来展现我的品位我的生活。他怎么可以死', '那谁来当我的仰慕者', '谁来做围观群众', '谁来发出一声哇塞！死了！算了', '死了就死了吧。别问为什么——我这么高大上的人在乎个市井小民干嘛。\\n']\n",
      "['\\n']\n",
      "['\\u3000\\u3000 若是有来生\\n']\n",
      "['\\n']\n",
      "['\\u3000\\u3000若是有来生', '我要做一个聋子。\\n']\n"
     ]
    }
   ],
   "source": [
    "for i in data:\n",
    "    print(i.split(\"，\"))"
   ]
  },
  {
   "cell_type": "markdown",
   "metadata": {},
   "source": [
    "## 读数据（readlines）"
   ]
  },
  {
   "cell_type": "markdown",
   "metadata": {},
   "source": [
    "就像read没有参数时一样，readlines可以按照行的方式把整个文件中的内容进行一次性读取，并且返回的是一个列表，其中每一行的数据为一个元素"
   ]
  },
  {
   "cell_type": "code",
   "execution_count": 19,
   "metadata": {
    "collapsed": true
   },
   "outputs": [],
   "source": [
    "f = open(\"决策树的几个辅助函数.ipynb\", \"r\", encoding='utf-8')\n",
    "data = f.readlines()"
   ]
  },
  {
   "cell_type": "code",
   "execution_count": 24,
   "metadata": {},
   "outputs": [
    {
     "data": {
      "text/plain": [
       "'\\n'"
      ]
     },
     "execution_count": 24,
     "metadata": {},
     "output_type": "execute_result"
    }
   ],
   "source": []
  },
  {
   "cell_type": "markdown",
   "metadata": {},
   "source": [
    "## 打开/关闭文件\n",
    "执行文件操作时，最后一定不能忘记的操作是关闭文件，即使报错了也要 close。普通的方式是在 finnally 块中显示的调用 close 方法。"
   ]
  },
  {
   "cell_type": "code",
   "execution_count": null,
   "metadata": {
    "collapsed": true
   },
   "outputs": [],
   "source": []
  },
  {
   "cell_type": "code",
   "execution_count": 1,
   "metadata": {},
   "outputs": [
    {
     "name": "stdout",
     "output_type": "stream",
     "text": [
      "utf-8\n"
     ]
    }
   ],
   "source": [
    "f = open('决策树的几个辅助函数.ipynb', encoding='utf-8')\n",
    "print(f.encoding)\n",
    "try:\n",
    "    data = f.read()\n",
    "finally:\n",
    "    f.close()"
   ]
  },
  {
   "cell_type": "markdown",
   "metadata": {},
   "source": [
    "如果不关闭文件:\n",
    "1. 会导致内存始终被占用, 得不到释放\n",
    "2. 会导致文件被占用中, 无法删除, 剪切等操作m"
   ]
  },
  {
   "cell_type": "markdown",
   "metadata": {},
   "source": [
    "更简便的写法是这样的:"
   ]
  },
  {
   "cell_type": "code",
   "execution_count": null,
   "metadata": {
    "collapsed": true
   },
   "outputs": [],
   "source": [
    "with open('决策树的几个辅助函数.ipynb', encoding='utf-8') as f:\n",
    "    data = f.read()\n",
    "# 这样打开的文件, 代码运行结束后会自动关闭"
   ]
  },
  {
   "cell_type": "code",
   "execution_count": null,
   "metadata": {
    "collapsed": true
   },
   "outputs": [],
   "source": []
  },
  {
   "cell_type": "markdown",
   "metadata": {},
   "source": [
    "## 文件的重命名、删除"
   ]
  },
  {
   "cell_type": "markdown",
   "metadata": {},
   "source": [
    "有些时候，需要对文件进行重命名、删除等一些操作，python的os模块中都有这么功能"
   ]
  },
  {
   "cell_type": "markdown",
   "metadata": {},
   "source": [
    "### 文件重命名\n",
    "\n",
    "os模块中的rename()可以完成对文件的重命名操作\n",
    "\n",
    "rename(需要修改的文件名, 新的文件名)"
   ]
  },
  {
   "cell_type": "code",
   "execution_count": 49,
   "metadata": {
    "collapsed": true
   },
   "outputs": [],
   "source": [
    "f.close()"
   ]
  },
  {
   "cell_type": "code",
   "execution_count": 50,
   "metadata": {
    "collapsed": true
   },
   "outputs": [],
   "source": [
    "import os"
   ]
  },
  {
   "cell_type": "code",
   "execution_count": 51,
   "metadata": {},
   "outputs": [
    {
     "name": "stdout",
     "output_type": "stream",
     "text": [
      "['F_OK', 'MutableMapping', 'O_APPEND', 'O_BINARY', 'O_CREAT', 'O_EXCL', 'O_NOINHERIT', 'O_RANDOM', 'O_RDONLY', 'O_RDWR', 'O_SEQUENTIAL', 'O_SHORT_LIVED', 'O_TEMPORARY', 'O_TEXT', 'O_TRUNC', 'O_WRONLY', 'P_DETACH', 'P_NOWAIT', 'P_NOWAITO', 'P_OVERLAY', 'P_WAIT', 'R_OK', 'SEEK_CUR', 'SEEK_END', 'SEEK_SET', 'TMP_MAX', 'W_OK', 'X_OK', '_DummyDirEntry', '_Environ', '__all__', '__builtins__', '__cached__', '__doc__', '__file__', '__loader__', '__name__', '__package__', '__spec__', '_dummy_scandir', '_execvpe', '_exists', '_exit', '_get_exports_list', '_putenv', '_unsetenv', '_wrap_close', 'abort', 'access', 'altsep', 'chdir', 'chmod', 'close', 'closerange', 'cpu_count', 'curdir', 'defpath', 'device_encoding', 'devnull', 'dup', 'dup2', 'environ', 'errno', 'error', 'execl', 'execle', 'execlp', 'execlpe', 'execv', 'execve', 'execvp', 'execvpe', 'extsep', 'fdopen', 'fsdecode', 'fsencode', 'fstat', 'fsync', 'ftruncate', 'get_exec_path', 'get_handle_inheritable', 'get_inheritable', 'get_terminal_size', 'getcwd', 'getcwdb', 'getenv', 'getlogin', 'getpid', 'getppid', 'isatty', 'kill', 'linesep', 'link', 'listdir', 'lseek', 'lstat', 'makedirs', 'mkdir', 'name', 'open', 'pardir', 'path', 'pathsep', 'pipe', 'popen', 'putenv', 'read', 'readlink', 'remove', 'removedirs', 'rename', 'renames', 'replace', 'rmdir', 'scandir', 'sep', 'set_handle_inheritable', 'set_inheritable', 'spawnl', 'spawnle', 'spawnv', 'spawnve', 'st', 'startfile', 'stat', 'stat_float_times', 'stat_result', 'statvfs_result', 'strerror', 'supports_bytes_environ', 'supports_dir_fd', 'supports_effective_ids', 'supports_fd', 'supports_follow_symlinks', 'symlink', 'sys', 'system', 'terminal_size', 'times', 'times_result', 'truncate', 'umask', 'uname_result', 'unlink', 'urandom', 'utime', 'waitpid', 'walk', 'write']\n"
     ]
    }
   ],
   "source": [
    "print(dir(os))"
   ]
  },
  {
   "cell_type": "code",
   "execution_count": 52,
   "metadata": {
    "collapsed": true
   },
   "outputs": [],
   "source": [
    "os.rename(\"test.txt\", 'onepaper.txt')"
   ]
  },
  {
   "cell_type": "code",
   "execution_count": 54,
   "metadata": {
    "collapsed": true
   },
   "outputs": [],
   "source": [
    "os.remove('onepaper.txt')"
   ]
  },
  {
   "cell_type": "code",
   "execution_count": null,
   "metadata": {
    "collapsed": true
   },
   "outputs": [],
   "source": []
  },
  {
   "cell_type": "code",
   "execution_count": 25,
   "metadata": {
    "collapsed": true
   },
   "outputs": [],
   "source": [
    " import os\n",
    "\n",
    "os.rename(\"test.txt\", \"我不太会了.txt\")"
   ]
  },
  {
   "cell_type": "markdown",
   "metadata": {},
   "source": [
    "### 删除文件"
   ]
  },
  {
   "cell_type": "markdown",
   "metadata": {},
   "source": [
    "os模块中的remove()可以完成对文件的删除操作\n",
    "\n",
    "remove(待删除的文件名)"
   ]
  },
  {
   "cell_type": "code",
   "execution_count": 26,
   "metadata": {
    "collapsed": true
   },
   "outputs": [],
   "source": [
    "import os\n",
    "\n",
    "os.remove(\"我不太会了.txt\")"
   ]
  },
  {
   "cell_type": "markdown",
   "metadata": {},
   "source": [
    "## 文件夹的相关操作"
   ]
  },
  {
   "cell_type": "markdown",
   "metadata": {},
   "source": [
    "### 创建文件夹"
   ]
  },
  {
   "cell_type": "code",
   "execution_count": 55,
   "metadata": {
    "collapsed": true
   },
   "outputs": [],
   "source": [
    "os.mkdir('中国河南大学')"
   ]
  },
  {
   "cell_type": "code",
   "execution_count": 57,
   "metadata": {},
   "outputs": [
    {
     "data": {
      "text/plain": [
       "'H:\\\\FangCloudV2\\\\个人文件\\\\大数据资料同步公司端\\\\Python课件\\\\pythoncode\\\\备课文件夹'"
      ]
     },
     "execution_count": 57,
     "metadata": {},
     "output_type": "execute_result"
    }
   ],
   "source": [
    "os.getcwd()"
   ]
  },
  {
   "cell_type": "code",
   "execution_count": 64,
   "metadata": {},
   "outputs": [
    {
     "name": "stdout",
     "output_type": "stream",
     "text": [
      "文件备份_.ipynb_checkpoints\n",
      "文件备份_1.png\n",
      "文件备份_1[复件].png\n",
      "文件备份_debug\n",
      "文件备份_Matplotlib学习\n",
      "文件备份_Numpy学习\n",
      "文件备份_output\n",
      "文件备份_Pandas\n",
      "文件备份_PM2点5研究\n",
      "文件备份_python exercise\n",
      "文件备份_Python基础第1部分_菜单_快捷键_基本语法_变量.ipynb\n",
      "文件备份_Python基础第2部分_标准数据类型_数值型_字符串.ipynb\n",
      "文件备份_Python基础第3部分__控制流语句_顺序结构_判断结构_循环结构.ipynb\n",
      "文件备份_Python基础第4部分_列表_元组_字典_集合.ipynb\n",
      "文件备份_Python基础第5部分_异常与错误_常用内置函数.ipynb\n",
      "文件备份_Python基础第5部分_异常与错误_常用内置函数_调整版.ipynb\n",
      "文件备份_Python基础第6部分_函数.ipynb\n",
      "文件备份_Python基础第6部分_函数_调整版.ipynb\n",
      "文件备份_Python基础第7部分_模块_datetime模块_IO操作.ipynb\n",
      "文件备份_Python基础第7部分_模块_datetime模块_IO操作_调整版.ipynb\n",
      "文件备份_Python简介.ipynb\n",
      "文件备份_Python练习题.ipynb\n",
      "文件备份_Python网络爬虫.pdf\n",
      "文件备份_test.py\n",
      "文件备份_test2.py\n",
      "文件备份_Untitled.ipynb\n",
      "文件备份_Untitled1.ipynb\n",
      "文件备份_Untitled2.ipynb\n",
      "文件备份___pycache__\n",
      "文件备份_中国河南大学\n",
      "文件备份_代码\n",
      "文件备份_作业.ipynb\n",
      "文件备份_决策树的几个辅助函数.ipynb\n",
      "文件备份_无代码版文档\n",
      "文件备份_爬虫课件\n",
      "文件备份_第一天作业\n",
      "文件备份_练习代码.ipynb\n",
      "文件备份_英雄信息.csv\n"
     ]
    }
   ],
   "source": [
    "for i in os.listdir():\n",
    "    d = '文件备份_'+ i\n",
    "    print(d)"
   ]
  },
  {
   "cell_type": "code",
   "execution_count": 27,
   "metadata": {
    "collapsed": true
   },
   "outputs": [],
   "source": [
    "import os\n",
    "\n",
    "os.mkdir(\"张三\")"
   ]
  },
  {
   "cell_type": "markdown",
   "metadata": {},
   "source": [
    "### 获取当前目录"
   ]
  },
  {
   "cell_type": "code",
   "execution_count": 28,
   "metadata": {},
   "outputs": [
    {
     "data": {
      "text/plain": [
       "'H:\\\\FangCloudV2\\\\个人文件\\\\大数据资料同步公司端\\\\Python课件\\\\pythoncode\\\\备课文件夹'"
      ]
     },
     "execution_count": 28,
     "metadata": {},
     "output_type": "execute_result"
    }
   ],
   "source": [
    "import os\n",
    "\n",
    "os.getcwd()"
   ]
  },
  {
   "cell_type": "markdown",
   "metadata": {},
   "source": [
    "### 获取目录列表"
   ]
  },
  {
   "cell_type": "code",
   "execution_count": 30,
   "metadata": {
    "collapsed": true
   },
   "outputs": [
    {
     "data": {
      "text/plain": [
       "['.ipynb_checkpoints',\n",
       " '1.png',\n",
       " 'debug',\n",
       " 'Numpy.ipynb',\n",
       " 'output',\n",
       " 'Pandas学习.ipynb',\n",
       " 'Pandas学习_豆瓣电影版-Copy1.ipynb',\n",
       " 'Pandas学习_豆瓣电影版.ipynb',\n",
       " 'PM2点5研究',\n",
       " 'Python基础第1部分_菜单_快捷键_基本语法_变量.ipynb',\n",
       " 'Python基础第2部分_标准数据类型_数值型_字符串.ipynb',\n",
       " 'Python基础第3部分__控制流语句_顺序结构_判断结构_循环结构.ipynb',\n",
       " 'Python基础第4部分_列表_元组_字典_集合.ipynb',\n",
       " 'Python基础第5部分_异常与错误_常用内置函数.ipynb',\n",
       " 'Python基础第6部分_函数.ipynb',\n",
       " 'Python基础第7部分_模块.ipynb',\n",
       " 'Python简介.ipynb',\n",
       " 'Python练习题.ipynb',\n",
       " 'testSet.txt',\n",
       " 'Untitled.ipynb',\n",
       " 'Untitled1.ipynb',\n",
       " '__pycache__',\n",
       " '代码',\n",
       " '作业.ipynb',\n",
       " '决策树的几个辅助函数.ipynb',\n",
       " '张三',\n",
       " '电影基本信息.CSV',\n",
       " '第一天作业',\n",
       " '练习代码.ipynb']"
      ]
     },
     "execution_count": 30,
     "metadata": {},
     "output_type": "execute_result"
    }
   ],
   "source": [
    "import os\n",
    "\n",
    "os.listdir()"
   ]
  },
  {
   "cell_type": "markdown",
   "metadata": {},
   "source": [
    "### 删除文件夹"
   ]
  },
  {
   "cell_type": "code",
   "execution_count": 65,
   "metadata": {
    "collapsed": true
   },
   "outputs": [],
   "source": [
    "os.rmdir(\"中国河南大学\")"
   ]
  },
  {
   "cell_type": "code",
   "execution_count": null,
   "metadata": {
    "collapsed": true
   },
   "outputs": [],
   "source": []
  },
  {
   "cell_type": "code",
   "execution_count": 31,
   "metadata": {
    "collapsed": true
   },
   "outputs": [],
   "source": [
    "import os\n",
    "\n",
    "os.rmdir(\"张三\")"
   ]
  },
  {
   "cell_type": "markdown",
   "metadata": {},
   "source": [
    "## 应用1:制作文件的备份"
   ]
  },
  {
   "cell_type": "code",
   "execution_count": 39,
   "metadata": {
    "collapsed": true
   },
   "outputs": [
    {
     "name": "stdout",
     "output_type": "stream",
     "text": [
      "请输入要拷贝的文件名字:1.png\n"
     ]
    },
    {
     "ename": "TypeError",
     "evalue": "write() argument must be str, not bytes",
     "output_type": "error",
     "traceback": [
      "\u001b[1;31m---------------------------------------------------------------------------\u001b[0m",
      "\u001b[1;31mTypeError\u001b[0m                                 Traceback (most recent call last)",
      "\u001b[1;32m<ipython-input-39-0cb23dc5638e>\u001b[0m in \u001b[0;36m<module>\u001b[1;34m()\u001b[0m\n\u001b[0;32m     19\u001b[0m     \u001b[1;31m# 把旧文件中的数据，一行一行的进行复制到新文件中\u001b[0m\u001b[1;33m\u001b[0m\u001b[1;33m\u001b[0m\u001b[0m\n\u001b[0;32m     20\u001b[0m     \u001b[1;32mfor\u001b[0m \u001b[0mlineContent\u001b[0m \u001b[1;32min\u001b[0m \u001b[0moldFile\u001b[0m\u001b[1;33m.\u001b[0m\u001b[0mreadlines\u001b[0m\u001b[1;33m(\u001b[0m\u001b[1;33m)\u001b[0m\u001b[1;33m:\u001b[0m\u001b[1;33m\u001b[0m\u001b[0m\n\u001b[1;32m---> 21\u001b[1;33m         \u001b[0mnewFile\u001b[0m\u001b[1;33m.\u001b[0m\u001b[0mwrite\u001b[0m\u001b[1;33m(\u001b[0m\u001b[0mlineContent\u001b[0m\u001b[1;33m)\u001b[0m\u001b[1;33m\u001b[0m\u001b[0m\n\u001b[0m\u001b[0;32m     22\u001b[0m \u001b[1;33m\u001b[0m\u001b[0m\n\u001b[0;32m     23\u001b[0m     \u001b[1;31m# 关闭文件\u001b[0m\u001b[1;33m\u001b[0m\u001b[1;33m\u001b[0m\u001b[0m\n",
      "\u001b[1;31mTypeError\u001b[0m: write() argument must be str, not bytes"
     ]
    }
   ],
   "source": [
    "oldFileName = input(\"请输入要拷贝的文件名字:\")\n",
    "\n",
    "oldFile = open(oldFileName,'rb')\n",
    "\n",
    "# 如果打开文件\n",
    "if oldFile:\n",
    "\n",
    "    # 提取文件的后缀\n",
    "    fileFlagNum = oldFileName.rfind('.')\n",
    "    if fileFlagNum > 0:\n",
    "        fileFlag = oldFileName[fileFlagNum:]\n",
    "\n",
    "    # 组织新的文件名字\n",
    "    newFileName = oldFileName[:fileFlagNum] + '[复件]' + fileFlag\n",
    "\n",
    "    # 创建新文件\n",
    "    newFile = open(newFileName, 'w')\n",
    "\n",
    "    # 把旧文件中的数据，一行一行的进行复制到新文件中\n",
    "    for lineContent in oldFile.readlines():\n",
    "        newFile.write(lineContent)\n",
    "\n",
    "    # 关闭文件\n",
    "    oldFile.close()\n",
    "    newFile.close()"
   ]
  },
  {
   "cell_type": "code",
   "execution_count": 77,
   "metadata": {
    "collapsed": true
   },
   "outputs": [],
   "source": [
    "filename = os.listdir('output')\n",
    "for i in filename:\n",
    "    os.rename('output/'+i,'output/'+'新文件_'+i )"
   ]
  },
  {
   "cell_type": "code",
   "execution_count": null,
   "metadata": {
    "collapsed": true
   },
   "outputs": [],
   "source": []
  },
  {
   "cell_type": "code",
   "execution_count": 73,
   "metadata": {
    "collapsed": true
   },
   "outputs": [],
   "source": [
    "filename = os.listdir('output') # 获取全部文件名\n",
    "for i in filename:# 对文件进行遍历操作\n",
    "    os.rename('output/{}'.format(i),'output/新文件_{}'.format(i) )# 重命名"
   ]
  },
  {
   "cell_type": "code",
   "execution_count": 69,
   "metadata": {},
   "outputs": [
    {
     "data": {
      "text/plain": [
       "['1 - 副本 (2).txt',\n",
       " '1 - 副本 (3).txt',\n",
       " '1 - 副本 (4).txt',\n",
       " '1 - 副本 (5).txt',\n",
       " '1 - 副本.txt',\n",
       " '1.txt']"
      ]
     },
     "execution_count": 69,
     "metadata": {},
     "output_type": "execute_result"
    }
   ],
   "source": [
    "os.listdir('output')\n",
    "os.rename(\"output/1.txt\", \"output/新文件_1.txt\")"
   ]
  },
  {
   "cell_type": "markdown",
   "metadata": {},
   "source": [
    "## 应用2：批量修改文件名"
   ]
  },
  {
   "cell_type": "code",
   "execution_count": 32,
   "metadata": {},
   "outputs": [
    {
     "data": {
      "text/plain": [
       "['1 - 副本 (2).txt',\n",
       " '1 - 副本 (3).txt',\n",
       " '1 - 副本 (4).txt',\n",
       " '1 - 副本 (5).txt',\n",
       " '1 - 副本.txt',\n",
       " '1.txt']"
      ]
     },
     "execution_count": 32,
     "metadata": {},
     "output_type": "execute_result"
    }
   ],
   "source": [
    "   # 批量在文件名前加前缀\n",
    "import os\n",
    "\n",
    "funFlag = 1 # 1表示添加标志  2表示删除标志\n",
    "\n",
    "folderName = './output/'\n",
    "\n",
    "# 获取指定路径的所有文件名字\n",
    "dirList = os.listdir(folderName)\n",
    "dirList"
   ]
  },
  {
   "cell_type": "code",
   "execution_count": 67,
   "metadata": {
    "collapsed": true
   },
   "outputs": [],
   "source": [
    "os.mkdir(\"output1\")"
   ]
  },
  {
   "cell_type": "code",
   "execution_count": null,
   "metadata": {
    "collapsed": true
   },
   "outputs": [],
   "source": []
  },
  {
   "cell_type": "code",
   "execution_count": 35,
   "metadata": {},
   "outputs": [
    {
     "name": "stdout",
     "output_type": "stream",
     "text": [
      "1 - 副本 (2).txt\n",
      "[隐藏文件]-1 - 副本 (2).txt\n",
      "1 - 副本 (3).txt\n",
      "[隐藏文件]-1 - 副本 (3).txt\n",
      "1 - 副本 (4).txt\n",
      "[隐藏文件]-1 - 副本 (4).txt\n",
      "1 - 副本 (5).txt\n",
      "[隐藏文件]-1 - 副本 (5).txt\n",
      "1 - 副本.txt\n",
      "[隐藏文件]-1 - 副本.txt\n",
      "1.txt\n",
      "[隐藏文件]-1.txt\n"
     ]
    }
   ],
   "source": [
    "# 遍历输出所有文件名字\n",
    "for name in dirList:\n",
    "    print (name)\n",
    "\n",
    "    if funFlag == 1:\n",
    "        newName = '[隐藏文件]-' + name\n",
    "    elif funFlag == 2:\n",
    "        num = len('[隐藏文件]-')\n",
    "        newName = name[num:]\n",
    "    print (newName)\n",
    "\n",
    "    os.rename(folderName+name, folderName+newName)"
   ]
  },
  {
   "cell_type": "markdown",
   "metadata": {},
   "source": [
    "## os方法大全\n",
    "```python\n",
    "import os\n",
    "\n",
    "print(os.getcwd())        # 获得当前工作目录\n",
    "print(os.chdir(\"dirname\")) # 改变当前脚本的工作路径，相当于shell下的cd\n",
    "print(os.curdir)            # 返回当前目录‘.'\n",
    "print(os.pardir)            # 获取当前目录的父目录字符串名‘..'\n",
    "print(os.makedirs('dirname1/dirname2'))     # 可生成多层递归目录\n",
    "print(os.removedirs('dirname1/dirname2'))      # 若目录为空，则删除，并递归到上一级目录，如若也为空，则删除，依此类推\n",
    "print(os.mkdir('test4'))         # 生成单级目录；相当于shell中mkdir dirname\n",
    "print(os.rmdir('test4'))        # 删除单级空目录，若目录不为空则无法删除，报错；相当于shell中rmdir dirname\n",
    "print(os.listdir('/pythonStudy/s12/test'))   # 列出指定目录下的所有文件和子目录，包括隐藏文件，并以列表方式打印\n",
    "print(os.remove('log.log'))            # 删除一个指定的文件\n",
    "print(os.rename(\"oldname\",\"newname\"))    # 重命名文件/目录)\n",
    "print(os.stat('/pythonStudy/s12/test'))     # 获取文件/目录信息\n",
    "print(os.pathsep)            # 输出用于分割文件路径的字符串';'\n",
    "print(os.name)               # 输出字符串指示当前使用平台。win->'nt'; Linux->'posix'\n",
    "print(os.system(command='bash'))   # 运行shell命令，直接显示\n",
    "print(os.environ)                  # 获得系统的环境变量\n",
    "print(os.path.abspath('/pythonStudy/s12/test'))   # 返回path规范化的绝对路径\n",
    "print(os.path.split('/pythonStudy/s12/test'))     # 将path分割成目录和文件名二元组返回\n",
    "print(os.path.dirname('/pythonStudy/s12/test'))    # 返回path的目录。其实就是os.path.split(path)的第一个元素\n",
    "print(os.path.basename('/pythonStudy/s12/test'))   # 返回path最后的文件名。如果path以／或\\结尾，那么就会返回空值。即os.path.split(path)的第二个元素\n",
    "print(os.path.exists('test'))                 # 判断path是否存在\n",
    "print(os.path.isabs('/pythonStudy/s12/test'))    # 如果path是绝对路径，返回True\n",
    "print(os.path.isfile('test'))                   # 如果path是一个存在的文件，返回True。否则返回False\n",
    "print(os.path.isdir('/pythonStudy/s12/test'))    # 如果path是一个存在的目录，则返回True。否则返回False\n",
    "print(os.path.getatime('/pythonStudy/s12/test'))   # 返回path所指向的文件或者目录的最后存取时间\n",
    "print(os.path.getmtime('/pythonStudy/s12/test'))   # 返回path所指向的文件或者目录的最后修改时间\n",
    "\n",
    "```"
   ]
  },
  {
   "cell_type": "code",
   "execution_count": null,
   "metadata": {
    "collapsed": true
   },
   "outputs": [],
   "source": []
  },
  {
   "cell_type": "markdown",
   "metadata": {},
   "source": [
    "## 作业\n",
    "\n",
    "1. 读取一个文件，显示除了以井号(#)开头的行以外的所有行\n",
    "\n",
    "2. (可以课堂上讲, 不能留作业)制作一个\"密码薄\",其可以存储一个网址（例如 www.itcast.cn），和一个密码(例如 123456)，请编写程序完成这个“密码薄”的增删改查功能，并且实现文件存储功能"
   ]
  },
  {
   "cell_type": "code",
   "execution_count": null,
   "metadata": {
    "collapsed": true
   },
   "outputs": [],
   "source": []
  },
  {
   "cell_type": "code",
   "execution_count": null,
   "metadata": {
    "collapsed": true
   },
   "outputs": [],
   "source": []
  },
  {
   "cell_type": "code",
   "execution_count": null,
   "metadata": {
    "collapsed": true
   },
   "outputs": [],
   "source": []
  },
  {
   "cell_type": "code",
   "execution_count": null,
   "metadata": {
    "collapsed": true
   },
   "outputs": [],
   "source": []
  }
 ],
 "metadata": {
  "kernelspec": {
   "display_name": "Python 3",
   "language": "python",
   "name": "python3"
  },
  "language_info": {
   "codemirror_mode": {
    "name": "ipython",
    "version": 3
   },
   "file_extension": ".py",
   "mimetype": "text/x-python",
   "name": "python",
   "nbconvert_exporter": "python",
   "pygments_lexer": "ipython3",
   "version": "3.6.5"
  },
  "toc": {
   "base_numbering": 1,
   "nav_menu": {
    "height": "357px",
    "width": "315px"
   },
   "number_sections": true,
   "sideBar": true,
   "skip_h1_title": false,
   "title_cell": "Table of Contents",
   "title_sidebar": "Contents",
   "toc_cell": true,
   "toc_position": {
    "height": "calc(100% - 180px)",
    "left": "10px",
    "top": "150px",
    "width": "245px"
   },
   "toc_section_display": true,
   "toc_window_display": true
  }
 },
 "nbformat": 4,
 "nbformat_minor": 2
}
